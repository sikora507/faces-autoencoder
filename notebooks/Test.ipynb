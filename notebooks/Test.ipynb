{
 "cells": [
  {
   "cell_type": "code",
   "execution_count": 1,
   "metadata": {},
   "outputs": [],
   "source": [
    "import os\n",
    "import tensorflow as tf\n",
    "import numpy as np\n",
    "from scipy import misc\n",
    "import random\n",
    "import math\n",
    "import face_recognition\n",
    "from skimage import transform\n",
    "import os.path\n",
    "import urllib.request\n",
    "import time\n",
    "import requests\n",
    "import matplotlib.pyplot as plt\n",
    "import json\n",
    "from sklearn.decomposition import PCA\n",
    "from tensorflow.keras.layers import Input, Dense, Conv2D, MaxPooling2D, UpSampling2D, Reshape, Flatten\n",
    "from tensorflow.keras.models import Model, Sequential\n",
    "from tensorflow.keras import backend as K"
   ]
  },
  {
   "cell_type": "code",
   "execution_count": 2,
   "metadata": {},
   "outputs": [],
   "source": [
    "%matplotlib inline"
   ]
  },
  {
   "cell_type": "markdown",
   "metadata": {},
   "source": [
    "## Set global variables"
   ]
  },
  {
   "cell_type": "code",
   "execution_count": 3,
   "metadata": {},
   "outputs": [],
   "source": [
    "IMAGE_WIDTH = 64\n",
    "IMAGE_HEIGHT = 64\n",
    "DENSE_SIZE = 200"
   ]
  },
  {
   "cell_type": "markdown",
   "metadata": {},
   "source": [
    "### Set up variables and download helpers"
   ]
  },
  {
   "cell_type": "code",
   "execution_count": 4,
   "metadata": {},
   "outputs": [],
   "source": [
    "START_MONTH = 11\n",
    "START_DATE = 17\n",
    "START_SLOT = 6\n",
    "\n",
    "DESIRED_X = 32\n",
    "DESIRED_Y = 21\n",
    "DESIRED_SIZE = 24\n",
    "\n",
    "NAMES_PER_FILE = 100\n",
    "TEMP_FILENAME = \"temp.png\"\n",
    "monthOn = 0\n",
    "dayOn = 0\n",
    "daysInMonth = [31,29,31,30,31,30,31,31,30,31,30,31]\n",
    "monthNames = ['january','february','march','april','may','june','july','august','september','october','november','december']\n",
    "\n",
    "def getAvg(face, landmark):\n",
    "    cum = np.zeros((2))\n",
    "    for point in face[landmark]:\n",
    "        cum[0] += point[0]\n",
    "        cum[1] += point[1]\n",
    "    return cum/len(face[landmark])\n",
    "\n",
    "def getNorm(a):\n",
    "    return (a-np.mean(a))/np.std(a)\n"
   ]
  },
  {
   "cell_type": "markdown",
   "metadata": {},
   "source": [
    "## Download all the data"
   ]
  },
  {
   "cell_type": "code",
   "execution_count": null,
   "metadata": {},
   "outputs": [],
   "source": [
    "imageCounter = 0\n",
    "for monthOn in range(START_MONTH,12):\n",
    "    thisStartDate = 1\n",
    "    if monthOn == START_MONTH:\n",
    "        thisStartDate = START_DATE\n",
    "    for dayOn in range(thisStartDate,daysInMonth[monthOn]+1):\n",
    "        response = urllib.request.urlopen(\"https://www.famousbirthdays.com/\"+monthNames[monthOn]+str(dayOn)+\".html\")\n",
    "        pageSource = response.read().splitlines()\n",
    "        lineOn = 0\n",
    "        while str(pageSource[lineOn]) != \"b'<div class=\\\"container people-list\\\">'\":\n",
    "            lineOn += 1\n",
    "\n",
    "        thisStartSlot = 0\n",
    "        if monthOn == START_MONTH and dayOn == START_DATE:\n",
    "            thisStartSlot = START_SLOT\n",
    "        for slotOn in range(0,48):\n",
    "            while \"class=\\\"face person-item\\\"\" not in str(pageSource[lineOn]):\n",
    "                lineOn += 1\n",
    "            iul = str(pageSource[lineOn])\n",
    "            pnl = str(pageSource[lineOn+4])\n",
    "            imageURL = iul[iul.index(\"background: url(\")+16:iul.index(\") no-repeat center center\")]\n",
    "            personName = \"\"\n",
    "            age = \"\"\n",
    "            pnl_s = 2\n",
    "            if pnl[pnl_s] == ' ':\n",
    "               pnl_s += 1\n",
    "            if \",\" in pnl:\n",
    "                personName = pnl[pnl_s:pnl.index(\",\")]\n",
    "                age = pnl[pnl.index(\",\")+2:-1]\n",
    "            else:\n",
    "                personName = pnl[pnl_s:pnl.index(\"(\")-1]\n",
    "                age = pnl[pnl.index(\"(\")+1:pnl.index(\")\")]\n",
    "\n",
    "            if slotOn < thisStartSlot or imageURL == 'https://www.famousbirthdays.com/faces/large-default.jpg' or personName == \"Ronan Domingo\"  or personName == \"Glam And Gore\" or personName == \"Edith Piaf\" or personName == \"Lexi Marie\":\n",
    "                print(personName+\" SKIPPED!\")\n",
    "            else:\n",
    "            \n",
    "                img_data = requests.get(imageURL).content\n",
    "                with open(\"temp.png\", 'wb') as handler:\n",
    "                    handler.write(img_data)\n",
    "                \n",
    "                image_face_info = face_recognition.load_image_file(TEMP_FILENAME)\n",
    "                face_landmarks = face_recognition.face_landmarks(image_face_info)\n",
    "\n",
    "                image_numpy = misc.imread(TEMP_FILENAME)\n",
    "                colorAmount = 0\n",
    "                if len(image_numpy.shape) == 3:\n",
    "                    nR = getNorm(image_numpy[:,:,0])\n",
    "                    nG = getNorm(image_numpy[:,:,1])\n",
    "                    nB = getNorm(image_numpy[:,:,2])\n",
    "                    colorAmount = np.mean(np.square(nR-nG))+np.mean(np.square(nR-nB))+np.mean(np.square(nG-nB))\n",
    "                if len(face_landmarks) == 1 and colorAmount >= 0.04: # We need there to only be one face in the image, AND we need it to be a colored image.\n",
    "                    leftEyePosition = getAvg(face_landmarks[0],'left_eye')\n",
    "                    rightEyePosition = getAvg(face_landmarks[0],'right_eye')\n",
    "                    nosePosition = getAvg(face_landmarks[0],'nose_tip')\n",
    "                    mouthPosition = getAvg(face_landmarks[0],'bottom_lip')\n",
    "            \n",
    "                    centralPosition = (leftEyePosition+rightEyePosition)/2\n",
    "            \n",
    "                    faceWidth = np.linalg.norm(leftEyePosition-rightEyePosition)\n",
    "                    faceHeight = np.linalg.norm(centralPosition-mouthPosition)\n",
    "                    if faceWidth >= faceHeight*0.7 and faceWidth <= faceHeight*1.5:\n",
    "\n",
    "                        faceSize = (faceWidth+faceHeight)/2\n",
    "            \n",
    "                        toScaleFactor = faceSize/DESIRED_SIZE\n",
    "                        toXShift = (centralPosition[0])\n",
    "                        toYShift = (centralPosition[1])\n",
    "                        toRotateFactor = np.arctan2(rightEyePosition[1]-leftEyePosition[1],rightEyePosition[0]-leftEyePosition[0])\n",
    "            \n",
    "                        rotateT = transform.SimilarityTransform(scale=toScaleFactor,rotation=toRotateFactor,translation=(toXShift,toYShift))\n",
    "                        moveT = transform.SimilarityTransform(scale=1,rotation=0,translation=(-DESIRED_X,-DESIRED_Y))\n",
    "\n",
    "                        outputArr = transform.warp(image=image_numpy,inverse_map=(moveT+rotateT))[0:IMAGE_HEIGHT,0:IMAGE_WIDTH]\n",
    "\n",
    "                        misc.imsave(\"../data/dataFace\"+str(imageCounter)+\".png\",outputArr)\n",
    "                        if imageCounter%NAMES_PER_FILE == 0:\n",
    "                            f = open(\"../names/name\"+str(imageCounter)+\".txt\",\"w+\")\n",
    "                        fame = str(slotOn)\n",
    "                        if monthOn == 1 and dayOn == 29:\n",
    "                            fame *= 4\n",
    "                        f.write(personName+\",\"+fame+\",\"+age+\"\\n\")\n",
    "                        if imageCounter%NAMES_PER_FILE == (NAMES_PER_FILE-1):\n",
    "                            f.close()\n",
    "                        print(\"DAY \"+monthNames[monthOn]+\" \"+str(dayOn)+\":  I just used person \"+personName+\" to create image number \"+str(imageCounter))\n",
    "                        imageCounter += 1\n",
    "                time.sleep(0.5)\n",
    "            lineOn += 1\n"
   ]
  },
  {
   "cell_type": "markdown",
   "metadata": {},
   "source": [
    "### Store images count"
   ]
  },
  {
   "cell_type": "code",
   "execution_count": 6,
   "metadata": {},
   "outputs": [],
   "source": [
    "images_count = len(os.listdir('../data/'))"
   ]
  },
  {
   "cell_type": "markdown",
   "metadata": {},
   "source": [
    "### Setup helper functions"
   ]
  },
  {
   "cell_type": "code",
   "execution_count": 7,
   "metadata": {},
   "outputs": [],
   "source": [
    "def CreateAutoEncoder():\n",
    "    input_img = Input(shape=(IMAGE_HEIGHT, IMAGE_WIDTH, 3))  # adapt this if using `channels_first` image data format\n",
    "\n",
    "    x = Conv2D(40, (3, 3), activation='relu', padding='same')(input_img)\n",
    "    x = MaxPooling2D((2, 2), padding='same')(x)\n",
    "    x = Conv2D(80, (3, 3), activation='relu', padding='same')(x)\n",
    "    x = MaxPooling2D((2, 2), padding='same')(x)\n",
    "    x = Conv2D(150, (3, 3), activation='relu', padding='same')(x)\n",
    "    x = MaxPooling2D((2, 2), padding='same')(x)\n",
    "    x = Conv2D(200, (3, 3), activation='relu', padding='same')(x)\n",
    "    x = MaxPooling2D((2, 2), padding='same')(x)\n",
    "    x = Flatten()(x)\n",
    "    encoded = Dense(DENSE_SIZE, activation='relu')(x)\n",
    "\n",
    "    y = Dense(3200, activation='relu')(encoded)\n",
    "    y = Reshape([4,4,200])(y)\n",
    "    y = UpSampling2D((2, 2))(y)\n",
    "    y = Conv2D(150, (3, 3), activation='relu', padding='same')(y)\n",
    "    y = UpSampling2D((2, 2))(y)\n",
    "    y = Conv2D(80, (3, 3), activation='relu', padding='same')(y)\n",
    "    y = UpSampling2D((2, 2))(y)\n",
    "    y = Conv2D(40, (3, 3), activation='relu', padding='same')(y)\n",
    "    y = UpSampling2D((2, 2))(y)\n",
    "    y = Conv2D(15, (3, 3), activation='relu', padding='same')(y)\n",
    "    decoded = Conv2D(3, (3, 3), activation='sigmoid', padding='same')(y)\n",
    "\n",
    "    autoencoder = Model(input_img, decoded)\n",
    "    #optimizer = tf.keras.optimizers.Adam(lr=0.005)\n",
    "    autoencoder.compile(optimizer='adagrad', loss='binary_crossentropy')\n",
    "    return autoencoder"
   ]
  },
  {
   "cell_type": "code",
   "execution_count": 8,
   "metadata": {},
   "outputs": [],
   "source": [
    "def WriteOutputFileResult(epoch):\n",
    "    if epoch%10!=0:\n",
    "        return\n",
    "    \n",
    "    imageIndex = np.random.randint(images_count)\n",
    "    output = autoencoder.predict(batch_data[imageIndex].reshape(1,64,64,3))\n",
    "    exampleImage = np.empty([IMAGE_HEIGHT*2,IMAGE_WIDTH,3])\n",
    "    exampleImage[0:IMAGE_HEIGHT,0:IMAGE_WIDTH,0:3] = batch_data[imageIndex,0:IMAGE_HEIGHT,0:IMAGE_WIDTH,0:3]\n",
    "    exampleImage[IMAGE_HEIGHT:IMAGE_HEIGHT*2,0:IMAGE_WIDTH,0:3] = output[0,0:IMAGE_HEIGHT,0:IMAGE_WIDTH,0:3]\n",
    "    exampleImage = np.clip(exampleImage, 0, 1)\n",
    "    misc.imsave('../modelExamples/encoder'+str(epoch)+'.png',exampleImage)\n",
    "\n",
    "    save_path='../models/keras.h5'\n",
    "    autoencoder.save(save_path)\n",
    "    print(\"MODEL SAVED: \"+str(save_path))"
   ]
  },
  {
   "cell_type": "markdown",
   "metadata": {},
   "source": [
    "## Train autoencoder"
   ]
  },
  {
   "cell_type": "code",
   "execution_count": null,
   "metadata": {},
   "outputs": [],
   "source": [
    "from tensorflow.keras.models import load_model\n",
    "modelPath = '../models/keras.h5'\n",
    "if os.path.isfile(modelPath):\n",
    "    print('Loading existing model')\n",
    "    autoencoder = load_model('../models/keras.h5', custom_objects={\"GlorotUniform\": tf.keras.initializers.glorot_uniform})\n",
    "else:\n",
    "    print('Creating new model')\n",
    "    autoencoder = CreateAutoEncoder()\n",
    "batch_data = np.empty([images_count,IMAGE_HEIGHT,IMAGE_WIDTH,3])\n",
    "for example in range(images_count):\n",
    "    imageIndex = example# +  int(math.floor(random.randrange(images_count)))\n",
    "    imagio = misc.imread('../data/dataFace'+str(imageIndex)+'.png')\n",
    "    batch_data[example] = imagio[:,:,0:3]/255.0\n",
    "autoencoder.fit(batch_data, batch_data,\n",
    "    epochs=10000,\n",
    "    batch_size=100,\n",
    "    shuffle=True,\n",
    "    #validation_data=(batch_data, batch_data),\n",
    "    callbacks=[\n",
    "        #tf.keras.callbacks.ModelCheckpoint('../models/keras.h5', monitor='val_loss', verbose=0, save_best_only=True, save_weights_only=False, mode='auto', period=1),\n",
    "        tf.keras.callbacks.LambdaCallback(on_epoch_end=lambda epoch, logs: WriteOutputFileResult(epoch))\n",
    "    ])\n",
    "\n"
   ]
  },
  {
   "cell_type": "markdown",
   "metadata": {},
   "source": [
    "## Tear apart encoder and decoder"
   ]
  },
  {
   "cell_type": "code",
   "execution_count": 10,
   "metadata": {},
   "outputs": [
    {
     "data": {
      "text/plain": [
       "['input_3',\n",
       " 'conv2d_18',\n",
       " 'max_pooling2d_8',\n",
       " 'conv2d_19',\n",
       " 'max_pooling2d_9',\n",
       " 'conv2d_20',\n",
       " 'max_pooling2d_10',\n",
       " 'conv2d_21',\n",
       " 'max_pooling2d_11',\n",
       " 'flatten_2',\n",
       " 'dense_4',\n",
       " 'dense_5',\n",
       " 'reshape_2',\n",
       " 'up_sampling2d_8',\n",
       " 'conv2d_22',\n",
       " 'up_sampling2d_9',\n",
       " 'conv2d_23',\n",
       " 'up_sampling2d_10',\n",
       " 'conv2d_24',\n",
       " 'up_sampling2d_11',\n",
       " 'conv2d_25',\n",
       " 'conv2d_26']"
      ]
     },
     "execution_count": 10,
     "metadata": {},
     "output_type": "execute_result"
    }
   ],
   "source": [
    "[layer.name for layer in autoencoder.layers]"
   ]
  },
  {
   "cell_type": "code",
   "execution_count": 11,
   "metadata": {},
   "outputs": [],
   "source": [
    "encoder = Sequential()\n",
    "for i in range(0,11):\n",
    "    encoder.add(autoencoder.layers[i])\n",
    "encoder.build()\n",
    "\n",
    "decoder = Sequential()\n",
    "for i in range(11,len(autoencoder.layers)):\n",
    "    decoder.add(autoencoder.layers[i])\n",
    "    \n",
    "decoder.build(input_shape=(None, 200))"
   ]
  },
  {
   "cell_type": "code",
   "execution_count": 12,
   "metadata": {},
   "outputs": [],
   "source": [
    "def getEncodedImage(index):\n",
    "    image = misc.imread('../data/dataFace'+str(index)+'.png')\n",
    "    image = image[:,:,0:3]/255.0\n",
    "    return image"
   ]
  },
  {
   "cell_type": "markdown",
   "metadata": {},
   "source": [
    "### Preview random image to be encoded"
   ]
  },
  {
   "cell_type": "code",
   "execution_count": 13,
   "metadata": {},
   "outputs": [
    {
     "name": "stderr",
     "output_type": "stream",
     "text": [
      "/usr/local/lib/python3.5/dist-packages/ipykernel_launcher.py:2: DeprecationWarning: `imread` is deprecated!\n",
      "`imread` is deprecated in SciPy 1.0.0, and will be removed in 1.2.0.\n",
      "Use ``imageio.imread`` instead.\n",
      "  \n"
     ]
    },
    {
     "data": {
      "text/plain": [
       "<matplotlib.image.AxesImage at 0x7faf480ad128>"
      ]
     },
     "execution_count": 13,
     "metadata": {},
     "output_type": "execute_result"
    },
    {
     "data": {
      "image/png": "[encoded data removed]",
      "text/plain": [
       "<Figure size 432x288 with 1 Axes>"
      ]
     },
     "metadata": {
      "needs_background": "light"
     },
     "output_type": "display_data"
    }
   ],
   "source": [
    "randIndex = np.random.randint(0, images_count)\n",
    "image = getEncodedImage(randIndex)\n",
    "plt.imshow(image)"
   ]
  },
  {
   "cell_type": "code",
   "execution_count": 14,
   "metadata": {},
   "outputs": [
    {
     "name": "stdout",
     "output_type": "stream",
     "text": [
      "Encoded image:\n",
      " [0.         0.         0.         0.         0.         0.\n",
      " 0.         0.         0.         0.         1.6740656  0.\n",
      " 0.         1.2446964  0.         0.         4.6464124  2.7161005\n",
      " 4.744044   0.         0.         0.         1.0253751  0.\n",
      " 0.         0.         0.         0.         0.         0.\n",
      " 0.         0.         0.         0.         0.         0.\n",
      " 0.516001   0.         0.         0.         0.         0.\n",
      " 0.         0.         0.         0.         2.0416033  0.\n",
      " 1.2738434  0.         0.         0.         4.646125   0.\n",
      " 2.3047757  0.         0.         0.6224123  4.424849   0.\n",
      " 0.         1.1240004  0.         0.         0.         1.548488\n",
      " 0.         0.4614426  0.         0.         0.         0.\n",
      " 0.         1.1851753  1.2601664  0.         0.         0.\n",
      " 0.         0.         0.         0.         0.         0.\n",
      " 0.5733514  0.         0.         0.         0.         0.18939778\n",
      " 1.6195832  4.0283566  0.         0.         0.         1.4311539\n",
      " 0.         1.9477886  1.0686957  0.         0.         1.4714222\n",
      " 0.         0.         0.         0.         0.         0.\n",
      " 0.         1.5717533  0.         0.         0.         1.5706655\n",
      " 0.         0.         4.989835   0.         0.         0.\n",
      " 0.         0.         0.         0.         0.         0.\n",
      " 0.         0.         0.         0.         0.         0.\n",
      " 0.87802136 0.         0.         0.         0.         0.\n",
      " 0.         0.         0.         1.3519242  0.         0.\n",
      " 2.0465598  3.8467922  0.         0.         0.17653233 0.\n",
      " 2.6257434  1.0397722  0.         0.         1.2316633  0.\n",
      " 0.         0.         0.         0.         0.         0.\n",
      " 0.         0.         0.         0.         1.5195677  0.\n",
      " 0.         0.         0.         1.062976   0.         0.99829024\n",
      " 2.1957307  0.         3.938364   0.         0.5726944  0.\n",
      " 0.         0.         0.         0.5094159  0.         0.\n",
      " 0.         0.         0.         0.         4.072344   0.\n",
      " 0.         0.         0.         0.         3.8419755  0.\n",
      " 0.         0.        ]\n"
     ]
    }
   ],
   "source": [
    "encoded = encoder.predict(image.reshape([-1, image.shape[0], image.shape[1], image.shape[2]]))\n",
    "print('Encoded image:\\n' ,encoded[0])"
   ]
  },
  {
   "cell_type": "code",
   "execution_count": 15,
   "metadata": {},
   "outputs": [],
   "source": [
    "decoded = decoder.predict(encoded)"
   ]
  },
  {
   "cell_type": "markdown",
   "metadata": {},
   "source": [
    "### Recreate image from encoded state"
   ]
  },
  {
   "cell_type": "code",
   "execution_count": 16,
   "metadata": {},
   "outputs": [
    {
     "data": {
      "text/plain": [
       "<matplotlib.image.AxesImage at 0x7faefc7a5cc0>"
      ]
     },
     "execution_count": 16,
     "metadata": {},
     "output_type": "execute_result"
    },
    {
     "data": {
      "image/png": "[encoded data removed]",
      "text/plain": [
       "<Figure size 432x288 with 1 Axes>"
      ]
     },
     "metadata": {
      "needs_background": "light"
     },
     "output_type": "display_data"
    }
   ],
   "source": [
    "plt.imshow(decoded[0])"
   ]
  },
  {
   "cell_type": "markdown",
   "metadata": {},
   "source": [
    "## Create dataframe to inspect all encoded images together"
   ]
  },
  {
   "cell_type": "code",
   "execution_count": 17,
   "metadata": {},
   "outputs": [],
   "source": [
    "import pandas as pd"
   ]
  },
  {
   "cell_type": "code",
   "execution_count": 18,
   "metadata": {},
   "outputs": [
    {
     "name": "stderr",
     "output_type": "stream",
     "text": [
      "/usr/local/lib/python3.5/dist-packages/ipykernel_launcher.py:2: DeprecationWarning: `imread` is deprecated!\n",
      "`imread` is deprecated in SciPy 1.0.0, and will be removed in 1.2.0.\n",
      "Use ``imageio.imread`` instead.\n",
      "  \n"
     ]
    },
    {
     "data": {
      "text/html": [
       "<div>\n",
       "<style scoped>\n",
       "    .dataframe tbody tr th:only-of-type {\n",
       "        vertical-align: middle;\n",
       "    }\n",
       "\n",
       "    .dataframe tbody tr th {\n",
       "        vertical-align: top;\n",
       "    }\n",
       "\n",
       "    .dataframe thead th {\n",
       "        text-align: right;\n",
       "    }\n",
       "</style>\n",
       "<table border=\"1\" class=\"dataframe\">\n",
       "  <thead>\n",
       "    <tr style=\"text-align: right;\">\n",
       "      <th></th>\n",
       "      <th>0</th>\n",
       "      <th>1</th>\n",
       "      <th>2</th>\n",
       "      <th>3</th>\n",
       "      <th>4</th>\n",
       "      <th>5</th>\n",
       "      <th>6</th>\n",
       "      <th>7</th>\n",
       "      <th>8</th>\n",
       "      <th>9</th>\n",
       "      <th>...</th>\n",
       "      <th>190</th>\n",
       "      <th>191</th>\n",
       "      <th>192</th>\n",
       "      <th>193</th>\n",
       "      <th>194</th>\n",
       "      <th>195</th>\n",
       "      <th>196</th>\n",
       "      <th>197</th>\n",
       "      <th>198</th>\n",
       "      <th>199</th>\n",
       "    </tr>\n",
       "  </thead>\n",
       "  <tbody>\n",
       "    <tr>\n",
       "      <th>count</th>\n",
       "      <td>527.0</td>\n",
       "      <td>527.000000</td>\n",
       "      <td>527.0</td>\n",
       "      <td>527.000000</td>\n",
       "      <td>527.0</td>\n",
       "      <td>527.0</td>\n",
       "      <td>527.0</td>\n",
       "      <td>527.000000</td>\n",
       "      <td>527.0</td>\n",
       "      <td>527.0</td>\n",
       "      <td>...</td>\n",
       "      <td>527.000000</td>\n",
       "      <td>527.0</td>\n",
       "      <td>527.0</td>\n",
       "      <td>527.000000</td>\n",
       "      <td>527.000000</td>\n",
       "      <td>527.0</td>\n",
       "      <td>527.000000</td>\n",
       "      <td>527.0</td>\n",
       "      <td>527.000000</td>\n",
       "      <td>527.000000</td>\n",
       "    </tr>\n",
       "    <tr>\n",
       "      <th>mean</th>\n",
       "      <td>0.0</td>\n",
       "      <td>0.383350</td>\n",
       "      <td>0.0</td>\n",
       "      <td>0.497579</td>\n",
       "      <td>0.0</td>\n",
       "      <td>0.0</td>\n",
       "      <td>0.0</td>\n",
       "      <td>1.563971</td>\n",
       "      <td>0.0</td>\n",
       "      <td>0.0</td>\n",
       "      <td>...</td>\n",
       "      <td>0.588612</td>\n",
       "      <td>0.0</td>\n",
       "      <td>0.0</td>\n",
       "      <td>0.292458</td>\n",
       "      <td>0.928342</td>\n",
       "      <td>0.0</td>\n",
       "      <td>0.658084</td>\n",
       "      <td>0.0</td>\n",
       "      <td>0.906207</td>\n",
       "      <td>0.520338</td>\n",
       "    </tr>\n",
       "    <tr>\n",
       "      <th>std</th>\n",
       "      <td>0.0</td>\n",
       "      <td>1.190903</td>\n",
       "      <td>0.0</td>\n",
       "      <td>1.101257</td>\n",
       "      <td>0.0</td>\n",
       "      <td>0.0</td>\n",
       "      <td>0.0</td>\n",
       "      <td>1.455407</td>\n",
       "      <td>0.0</td>\n",
       "      <td>0.0</td>\n",
       "      <td>...</td>\n",
       "      <td>1.390174</td>\n",
       "      <td>0.0</td>\n",
       "      <td>0.0</td>\n",
       "      <td>1.263822</td>\n",
       "      <td>1.070300</td>\n",
       "      <td>0.0</td>\n",
       "      <td>1.130944</td>\n",
       "      <td>0.0</td>\n",
       "      <td>1.259891</td>\n",
       "      <td>1.474352</td>\n",
       "    </tr>\n",
       "    <tr>\n",
       "      <th>min</th>\n",
       "      <td>0.0</td>\n",
       "      <td>0.000000</td>\n",
       "      <td>0.0</td>\n",
       "      <td>0.000000</td>\n",
       "      <td>0.0</td>\n",
       "      <td>0.0</td>\n",
       "      <td>0.0</td>\n",
       "      <td>0.000000</td>\n",
       "      <td>0.0</td>\n",
       "      <td>0.0</td>\n",
       "      <td>...</td>\n",
       "      <td>0.000000</td>\n",
       "      <td>0.0</td>\n",
       "      <td>0.0</td>\n",
       "      <td>0.000000</td>\n",
       "      <td>0.000000</td>\n",
       "      <td>0.0</td>\n",
       "      <td>0.000000</td>\n",
       "      <td>0.0</td>\n",
       "      <td>0.000000</td>\n",
       "      <td>0.000000</td>\n",
       "    </tr>\n",
       "    <tr>\n",
       "      <th>25%</th>\n",
       "      <td>0.0</td>\n",
       "      <td>0.000000</td>\n",
       "      <td>0.0</td>\n",
       "      <td>0.000000</td>\n",
       "      <td>0.0</td>\n",
       "      <td>0.0</td>\n",
       "      <td>0.0</td>\n",
       "      <td>0.294710</td>\n",
       "      <td>0.0</td>\n",
       "      <td>0.0</td>\n",
       "      <td>...</td>\n",
       "      <td>0.000000</td>\n",
       "      <td>0.0</td>\n",
       "      <td>0.0</td>\n",
       "      <td>0.000000</td>\n",
       "      <td>0.000000</td>\n",
       "      <td>0.0</td>\n",
       "      <td>0.000000</td>\n",
       "      <td>0.0</td>\n",
       "      <td>0.000000</td>\n",
       "      <td>0.000000</td>\n",
       "    </tr>\n",
       "    <tr>\n",
       "      <th>50%</th>\n",
       "      <td>0.0</td>\n",
       "      <td>0.000000</td>\n",
       "      <td>0.0</td>\n",
       "      <td>0.000000</td>\n",
       "      <td>0.0</td>\n",
       "      <td>0.0</td>\n",
       "      <td>0.0</td>\n",
       "      <td>1.333912</td>\n",
       "      <td>0.0</td>\n",
       "      <td>0.0</td>\n",
       "      <td>...</td>\n",
       "      <td>0.000000</td>\n",
       "      <td>0.0</td>\n",
       "      <td>0.0</td>\n",
       "      <td>0.000000</td>\n",
       "      <td>0.655429</td>\n",
       "      <td>0.0</td>\n",
       "      <td>0.000000</td>\n",
       "      <td>0.0</td>\n",
       "      <td>0.324040</td>\n",
       "      <td>0.000000</td>\n",
       "    </tr>\n",
       "    <tr>\n",
       "      <th>75%</th>\n",
       "      <td>0.0</td>\n",
       "      <td>0.000000</td>\n",
       "      <td>0.0</td>\n",
       "      <td>0.328242</td>\n",
       "      <td>0.0</td>\n",
       "      <td>0.0</td>\n",
       "      <td>0.0</td>\n",
       "      <td>2.321734</td>\n",
       "      <td>0.0</td>\n",
       "      <td>0.0</td>\n",
       "      <td>...</td>\n",
       "      <td>0.510635</td>\n",
       "      <td>0.0</td>\n",
       "      <td>0.0</td>\n",
       "      <td>0.000000</td>\n",
       "      <td>1.580515</td>\n",
       "      <td>0.0</td>\n",
       "      <td>0.958642</td>\n",
       "      <td>0.0</td>\n",
       "      <td>1.432640</td>\n",
       "      <td>0.000000</td>\n",
       "    </tr>\n",
       "    <tr>\n",
       "      <th>max</th>\n",
       "      <td>0.0</td>\n",
       "      <td>7.928043</td>\n",
       "      <td>0.0</td>\n",
       "      <td>8.070414</td>\n",
       "      <td>0.0</td>\n",
       "      <td>0.0</td>\n",
       "      <td>0.0</td>\n",
       "      <td>8.701365</td>\n",
       "      <td>0.0</td>\n",
       "      <td>0.0</td>\n",
       "      <td>...</td>\n",
       "      <td>12.323253</td>\n",
       "      <td>0.0</td>\n",
       "      <td>0.0</td>\n",
       "      <td>14.501927</td>\n",
       "      <td>5.239333</td>\n",
       "      <td>0.0</td>\n",
       "      <td>6.052303</td>\n",
       "      <td>0.0</td>\n",
       "      <td>6.644118</td>\n",
       "      <td>9.616698</td>\n",
       "    </tr>\n",
       "  </tbody>\n",
       "</table>\n",
       "<p>8 rows × 200 columns</p>\n",
       "</div>"
      ],
      "text/plain": [
       "         0           1      2           3      4      5      6           7    \\\n",
       "count  527.0  527.000000  527.0  527.000000  527.0  527.0  527.0  527.000000   \n",
       "mean     0.0    0.383350    0.0    0.497579    0.0    0.0    0.0    1.563971   \n",
       "std      0.0    1.190903    0.0    1.101257    0.0    0.0    0.0    1.455407   \n",
       "min      0.0    0.000000    0.0    0.000000    0.0    0.0    0.0    0.000000   \n",
       "25%      0.0    0.000000    0.0    0.000000    0.0    0.0    0.0    0.294710   \n",
       "50%      0.0    0.000000    0.0    0.000000    0.0    0.0    0.0    1.333912   \n",
       "75%      0.0    0.000000    0.0    0.328242    0.0    0.0    0.0    2.321734   \n",
       "max      0.0    7.928043    0.0    8.070414    0.0    0.0    0.0    8.701365   \n",
       "\n",
       "         8      9       ...             190    191    192         193  \\\n",
       "count  527.0  527.0     ...      527.000000  527.0  527.0  527.000000   \n",
       "mean     0.0    0.0     ...        0.588612    0.0    0.0    0.292458   \n",
       "std      0.0    0.0     ...        1.390174    0.0    0.0    1.263822   \n",
       "min      0.0    0.0     ...        0.000000    0.0    0.0    0.000000   \n",
       "25%      0.0    0.0     ...        0.000000    0.0    0.0    0.000000   \n",
       "50%      0.0    0.0     ...        0.000000    0.0    0.0    0.000000   \n",
       "75%      0.0    0.0     ...        0.510635    0.0    0.0    0.000000   \n",
       "max      0.0    0.0     ...       12.323253    0.0    0.0   14.501927   \n",
       "\n",
       "              194    195         196    197         198         199  \n",
       "count  527.000000  527.0  527.000000  527.0  527.000000  527.000000  \n",
       "mean     0.928342    0.0    0.658084    0.0    0.906207    0.520338  \n",
       "std      1.070300    0.0    1.130944    0.0    1.259891    1.474352  \n",
       "min      0.000000    0.0    0.000000    0.0    0.000000    0.000000  \n",
       "25%      0.000000    0.0    0.000000    0.0    0.000000    0.000000  \n",
       "50%      0.655429    0.0    0.000000    0.0    0.324040    0.000000  \n",
       "75%      1.580515    0.0    0.958642    0.0    1.432640    0.000000  \n",
       "max      5.239333    0.0    6.052303    0.0    6.644118    9.616698  \n",
       "\n",
       "[8 rows x 200 columns]"
      ]
     },
     "execution_count": 18,
     "metadata": {},
     "output_type": "execute_result"
    }
   ],
   "source": [
    "all_rows = []\n",
    "for i in range(images_count):\n",
    "    image = getEncodedImage(i)\n",
    "    encoded_internal = encoder.predict(image.reshape([-1, image.shape[0], image.shape[1], image.shape[2]]))[0]\n",
    "    all_rows.append(encoded_internal)\n",
    "df = pd.DataFrame(all_rows)\n",
    "df.describe()\n",
    "    "
   ]
  },
  {
   "cell_type": "markdown",
   "metadata": {},
   "source": [
    "## Save mean from encodings to file"
   ]
  },
  {
   "cell_type": "code",
   "execution_count": 19,
   "metadata": {},
   "outputs": [],
   "source": [
    "\n",
    "mean = df.mean().values.tolist()\n",
    "\n",
    "text_file = open(\"../models/mean.json\", \"w\")\n",
    "text_file.write(json.dumps(mean))\n",
    "text_file.close()"
   ]
  },
  {
   "cell_type": "markdown",
   "metadata": {},
   "source": [
    "## Filter out columns all containing zeros"
   ]
  },
  {
   "cell_type": "code",
   "execution_count": 20,
   "metadata": {},
   "outputs": [],
   "source": [
    "m2 = df.loc[:, (df != 0).any(axis=0)]"
   ]
  },
  {
   "cell_type": "code",
   "execution_count": 21,
   "metadata": {},
   "outputs": [
    {
     "data": {
      "text/html": [
       "<div>\n",
       "<style scoped>\n",
       "    .dataframe tbody tr th:only-of-type {\n",
       "        vertical-align: middle;\n",
       "    }\n",
       "\n",
       "    .dataframe tbody tr th {\n",
       "        vertical-align: top;\n",
       "    }\n",
       "\n",
       "    .dataframe thead th {\n",
       "        text-align: right;\n",
       "    }\n",
       "</style>\n",
       "<table border=\"1\" class=\"dataframe\">\n",
       "  <thead>\n",
       "    <tr style=\"text-align: right;\">\n",
       "      <th></th>\n",
       "      <th>1</th>\n",
       "      <th>3</th>\n",
       "      <th>7</th>\n",
       "      <th>10</th>\n",
       "      <th>13</th>\n",
       "      <th>16</th>\n",
       "      <th>17</th>\n",
       "      <th>18</th>\n",
       "      <th>19</th>\n",
       "      <th>21</th>\n",
       "      <th>...</th>\n",
       "      <th>179</th>\n",
       "      <th>180</th>\n",
       "      <th>183</th>\n",
       "      <th>184</th>\n",
       "      <th>190</th>\n",
       "      <th>193</th>\n",
       "      <th>194</th>\n",
       "      <th>196</th>\n",
       "      <th>198</th>\n",
       "      <th>199</th>\n",
       "    </tr>\n",
       "  </thead>\n",
       "  <tbody>\n",
       "    <tr>\n",
       "      <th>count</th>\n",
       "      <td>527.000000</td>\n",
       "      <td>527.000000</td>\n",
       "      <td>527.000000</td>\n",
       "      <td>527.000000</td>\n",
       "      <td>527.000000</td>\n",
       "      <td>527.000000</td>\n",
       "      <td>527.000000</td>\n",
       "      <td>527.000000</td>\n",
       "      <td>527.000000</td>\n",
       "      <td>527.000000</td>\n",
       "      <td>...</td>\n",
       "      <td>527.000000</td>\n",
       "      <td>527.000000</td>\n",
       "      <td>527.000000</td>\n",
       "      <td>527.000000</td>\n",
       "      <td>527.000000</td>\n",
       "      <td>527.000000</td>\n",
       "      <td>527.000000</td>\n",
       "      <td>527.000000</td>\n",
       "      <td>527.000000</td>\n",
       "      <td>527.000000</td>\n",
       "    </tr>\n",
       "    <tr>\n",
       "      <th>mean</th>\n",
       "      <td>0.383350</td>\n",
       "      <td>0.497579</td>\n",
       "      <td>1.563971</td>\n",
       "      <td>1.032203</td>\n",
       "      <td>0.645219</td>\n",
       "      <td>1.415085</td>\n",
       "      <td>0.818090</td>\n",
       "      <td>0.795896</td>\n",
       "      <td>1.025534</td>\n",
       "      <td>0.855816</td>\n",
       "      <td>...</td>\n",
       "      <td>0.830482</td>\n",
       "      <td>0.720698</td>\n",
       "      <td>0.921920</td>\n",
       "      <td>1.092613</td>\n",
       "      <td>0.588612</td>\n",
       "      <td>0.292458</td>\n",
       "      <td>0.928342</td>\n",
       "      <td>0.658084</td>\n",
       "      <td>0.906207</td>\n",
       "      <td>0.520338</td>\n",
       "    </tr>\n",
       "    <tr>\n",
       "      <th>std</th>\n",
       "      <td>1.190903</td>\n",
       "      <td>1.101257</td>\n",
       "      <td>1.455407</td>\n",
       "      <td>1.125508</td>\n",
       "      <td>1.383625</td>\n",
       "      <td>1.554425</td>\n",
       "      <td>1.545218</td>\n",
       "      <td>1.385235</td>\n",
       "      <td>1.114971</td>\n",
       "      <td>1.103555</td>\n",
       "      <td>...</td>\n",
       "      <td>1.060839</td>\n",
       "      <td>1.136248</td>\n",
       "      <td>1.201186</td>\n",
       "      <td>1.640923</td>\n",
       "      <td>1.390174</td>\n",
       "      <td>1.263822</td>\n",
       "      <td>1.070300</td>\n",
       "      <td>1.130944</td>\n",
       "      <td>1.259891</td>\n",
       "      <td>1.474352</td>\n",
       "    </tr>\n",
       "    <tr>\n",
       "      <th>min</th>\n",
       "      <td>0.000000</td>\n",
       "      <td>0.000000</td>\n",
       "      <td>0.000000</td>\n",
       "      <td>0.000000</td>\n",
       "      <td>0.000000</td>\n",
       "      <td>0.000000</td>\n",
       "      <td>0.000000</td>\n",
       "      <td>0.000000</td>\n",
       "      <td>0.000000</td>\n",
       "      <td>0.000000</td>\n",
       "      <td>...</td>\n",
       "      <td>0.000000</td>\n",
       "      <td>0.000000</td>\n",
       "      <td>0.000000</td>\n",
       "      <td>0.000000</td>\n",
       "      <td>0.000000</td>\n",
       "      <td>0.000000</td>\n",
       "      <td>0.000000</td>\n",
       "      <td>0.000000</td>\n",
       "      <td>0.000000</td>\n",
       "      <td>0.000000</td>\n",
       "    </tr>\n",
       "    <tr>\n",
       "      <th>25%</th>\n",
       "      <td>0.000000</td>\n",
       "      <td>0.000000</td>\n",
       "      <td>0.294710</td>\n",
       "      <td>0.000000</td>\n",
       "      <td>0.000000</td>\n",
       "      <td>0.000000</td>\n",
       "      <td>0.000000</td>\n",
       "      <td>0.000000</td>\n",
       "      <td>0.000000</td>\n",
       "      <td>0.000000</td>\n",
       "      <td>...</td>\n",
       "      <td>0.000000</td>\n",
       "      <td>0.000000</td>\n",
       "      <td>0.000000</td>\n",
       "      <td>0.000000</td>\n",
       "      <td>0.000000</td>\n",
       "      <td>0.000000</td>\n",
       "      <td>0.000000</td>\n",
       "      <td>0.000000</td>\n",
       "      <td>0.000000</td>\n",
       "      <td>0.000000</td>\n",
       "    </tr>\n",
       "    <tr>\n",
       "      <th>50%</th>\n",
       "      <td>0.000000</td>\n",
       "      <td>0.000000</td>\n",
       "      <td>1.333912</td>\n",
       "      <td>0.756519</td>\n",
       "      <td>0.000000</td>\n",
       "      <td>1.057168</td>\n",
       "      <td>0.000000</td>\n",
       "      <td>0.000000</td>\n",
       "      <td>0.758654</td>\n",
       "      <td>0.457324</td>\n",
       "      <td>...</td>\n",
       "      <td>0.382845</td>\n",
       "      <td>0.000000</td>\n",
       "      <td>0.473265</td>\n",
       "      <td>0.104616</td>\n",
       "      <td>0.000000</td>\n",
       "      <td>0.000000</td>\n",
       "      <td>0.655429</td>\n",
       "      <td>0.000000</td>\n",
       "      <td>0.324040</td>\n",
       "      <td>0.000000</td>\n",
       "    </tr>\n",
       "    <tr>\n",
       "      <th>75%</th>\n",
       "      <td>0.000000</td>\n",
       "      <td>0.328242</td>\n",
       "      <td>2.321734</td>\n",
       "      <td>1.556919</td>\n",
       "      <td>0.611775</td>\n",
       "      <td>2.378852</td>\n",
       "      <td>1.168464</td>\n",
       "      <td>1.147271</td>\n",
       "      <td>1.744949</td>\n",
       "      <td>1.374141</td>\n",
       "      <td>...</td>\n",
       "      <td>1.381343</td>\n",
       "      <td>1.199598</td>\n",
       "      <td>1.443289</td>\n",
       "      <td>1.651781</td>\n",
       "      <td>0.510635</td>\n",
       "      <td>0.000000</td>\n",
       "      <td>1.580515</td>\n",
       "      <td>0.958642</td>\n",
       "      <td>1.432640</td>\n",
       "      <td>0.000000</td>\n",
       "    </tr>\n",
       "    <tr>\n",
       "      <th>max</th>\n",
       "      <td>7.928043</td>\n",
       "      <td>8.070414</td>\n",
       "      <td>8.701365</td>\n",
       "      <td>5.879054</td>\n",
       "      <td>10.312868</td>\n",
       "      <td>6.995349</td>\n",
       "      <td>9.534487</td>\n",
       "      <td>8.131895</td>\n",
       "      <td>6.139172</td>\n",
       "      <td>6.481678</td>\n",
       "      <td>...</td>\n",
       "      <td>5.561953</td>\n",
       "      <td>6.141798</td>\n",
       "      <td>6.244396</td>\n",
       "      <td>9.122747</td>\n",
       "      <td>12.323253</td>\n",
       "      <td>14.501927</td>\n",
       "      <td>5.239333</td>\n",
       "      <td>6.052303</td>\n",
       "      <td>6.644118</td>\n",
       "      <td>9.616698</td>\n",
       "    </tr>\n",
       "  </tbody>\n",
       "</table>\n",
       "<p>8 rows × 107 columns</p>\n",
       "</div>"
      ],
      "text/plain": [
       "              1           3           7           10          13          16   \\\n",
       "count  527.000000  527.000000  527.000000  527.000000  527.000000  527.000000   \n",
       "mean     0.383350    0.497579    1.563971    1.032203    0.645219    1.415085   \n",
       "std      1.190903    1.101257    1.455407    1.125508    1.383625    1.554425   \n",
       "min      0.000000    0.000000    0.000000    0.000000    0.000000    0.000000   \n",
       "25%      0.000000    0.000000    0.294710    0.000000    0.000000    0.000000   \n",
       "50%      0.000000    0.000000    1.333912    0.756519    0.000000    1.057168   \n",
       "75%      0.000000    0.328242    2.321734    1.556919    0.611775    2.378852   \n",
       "max      7.928043    8.070414    8.701365    5.879054   10.312868    6.995349   \n",
       "\n",
       "              17          18          19          21      ...             179  \\\n",
       "count  527.000000  527.000000  527.000000  527.000000     ...      527.000000   \n",
       "mean     0.818090    0.795896    1.025534    0.855816     ...        0.830482   \n",
       "std      1.545218    1.385235    1.114971    1.103555     ...        1.060839   \n",
       "min      0.000000    0.000000    0.000000    0.000000     ...        0.000000   \n",
       "25%      0.000000    0.000000    0.000000    0.000000     ...        0.000000   \n",
       "50%      0.000000    0.000000    0.758654    0.457324     ...        0.382845   \n",
       "75%      1.168464    1.147271    1.744949    1.374141     ...        1.381343   \n",
       "max      9.534487    8.131895    6.139172    6.481678     ...        5.561953   \n",
       "\n",
       "              180         183         184         190         193         194  \\\n",
       "count  527.000000  527.000000  527.000000  527.000000  527.000000  527.000000   \n",
       "mean     0.720698    0.921920    1.092613    0.588612    0.292458    0.928342   \n",
       "std      1.136248    1.201186    1.640923    1.390174    1.263822    1.070300   \n",
       "min      0.000000    0.000000    0.000000    0.000000    0.000000    0.000000   \n",
       "25%      0.000000    0.000000    0.000000    0.000000    0.000000    0.000000   \n",
       "50%      0.000000    0.473265    0.104616    0.000000    0.000000    0.655429   \n",
       "75%      1.199598    1.443289    1.651781    0.510635    0.000000    1.580515   \n",
       "max      6.141798    6.244396    9.122747   12.323253   14.501927    5.239333   \n",
       "\n",
       "              196         198         199  \n",
       "count  527.000000  527.000000  527.000000  \n",
       "mean     0.658084    0.906207    0.520338  \n",
       "std      1.130944    1.259891    1.474352  \n",
       "min      0.000000    0.000000    0.000000  \n",
       "25%      0.000000    0.000000    0.000000  \n",
       "50%      0.000000    0.324040    0.000000  \n",
       "75%      0.958642    1.432640    0.000000  \n",
       "max      6.052303    6.644118    9.616698  \n",
       "\n",
       "[8 rows x 107 columns]"
      ]
     },
     "execution_count": 21,
     "metadata": {},
     "output_type": "execute_result"
    }
   ],
   "source": [
    "m2.describe()"
   ]
  },
  {
   "cell_type": "code",
   "execution_count": 22,
   "metadata": {},
   "outputs": [],
   "source": [
    "pca_columns = len(m2.columns)"
   ]
  },
  {
   "cell_type": "markdown",
   "metadata": {},
   "source": [
    "### This number shows how many principal components are needed\n",
    "#### We can take only non-zero columns from our encodings table\n",
    "This will allow to use fewer components"
   ]
  },
  {
   "cell_type": "code",
   "execution_count": 23,
   "metadata": {},
   "outputs": [
    {
     "data": {
      "text/plain": [
       "107"
      ]
     },
     "execution_count": 23,
     "metadata": {},
     "output_type": "execute_result"
    }
   ],
   "source": [
    "pca_columns"
   ]
  },
  {
   "cell_type": "markdown",
   "metadata": {},
   "source": [
    "## Manual PCA"
   ]
  },
  {
   "cell_type": "code",
   "execution_count": 24,
   "metadata": {},
   "outputs": [],
   "source": [
    "np_all_rows = np.asarray(all_rows)\n",
    "\n",
    "pca = PCA(n_components=pca_columns)\n",
    "pca.fit(np_all_rows)\n",
    "values = np.sqrt(pca.explained_variance_)\n",
    "vectors = pca.components_\n",
    "\n",
    "json_vectors = json.dumps(vectors.tolist())\n",
    "json_values = json.dumps(values.tolist())\n",
    "\n",
    "all_rows_pca = pca.transform(np_all_rows)\n",
    "\n",
    "sliders_min = all_rows_pca.min(axis=0)\n",
    "sliders_max = all_rows_pca.max(axis=0)\n",
    "json_sliders_min = json.dumps(sliders_min.tolist())\n",
    "json_sliders_max = json.dumps(sliders_max.tolist())\n",
    "\n",
    "text_file = open(\"../models/eigenVectors.json\", \"w\")\n",
    "text_file.write(json_vectors)\n",
    "text_file.close()\n",
    "\n",
    "text_file = open(\"../models/eigenValues.json\", \"w\")\n",
    "text_file.write(json_values)\n",
    "text_file.close()\n",
    "\n",
    "text_file = open(\"../models/slidersMin.json\", \"w\")\n",
    "text_file.write(json_sliders_min)\n",
    "text_file.close()\n",
    "\n",
    "text_file = open(\"../models/slidersMax.json\", \"w\")\n",
    "text_file.write(json_sliders_max)\n",
    "text_file.close()"
   ]
  },
  {
   "cell_type": "markdown",
   "metadata": {},
   "source": [
    "## Load data as it will be loaded by tensorflowJS in the browser"
   ]
  },
  {
   "cell_type": "code",
   "execution_count": 25,
   "metadata": {},
   "outputs": [],
   "source": [
    "with open('../models/eigenVectors.json') as f:\n",
    "    eigenVectors = np.asarray(json.load(f))\n",
    "with open('../models/eigenValues.json') as f:\n",
    "    eigenValues = np.asarray(json.load(f))\n",
    "with open('../models/mean.json') as f:\n",
    "    meanData = np.asarray(json.load(f))"
   ]
  },
  {
   "cell_type": "code",
   "execution_count": 26,
   "metadata": {},
   "outputs": [],
   "source": [
    "eigenvectorInverses = np.linalg.pinv(eigenVectors)"
   ]
  },
  {
   "cell_type": "code",
   "execution_count": 27,
   "metadata": {},
   "outputs": [],
   "source": [
    "traits = encoded[0] - meanData\n",
    "image_pca = np.matmul(traits, eigenvectorInverses) / eigenValues"
   ]
  },
  {
   "cell_type": "code",
   "execution_count": 28,
   "metadata": {},
   "outputs": [
    {
     "data": {
      "text/plain": [
       "array([-1.21494064e+00, -4.95205738e-01,  1.58773161e+00,  1.03317212e+00,\n",
       "        1.64704590e-02,  8.42720705e-02,  6.85427567e-02, -2.79387655e+00,\n",
       "        1.87637418e+00,  7.37616443e-02,  2.54778020e-01, -1.77222121e-01,\n",
       "        1.13375160e+00, -1.30607305e-01, -5.21181651e-01,  1.04267917e+00,\n",
       "       -5.30473454e-01, -9.19137177e-01, -6.33939878e-01,  1.90321028e+00,\n",
       "        1.06104141e+00, -7.84540597e-01,  6.10745502e-01,  7.75544652e-01,\n",
       "       -3.78812174e-01, -8.48271968e-01, -9.15274639e-01, -5.84614425e-02,\n",
       "        4.95471393e-01, -8.18511609e-01,  1.17733230e-01,  7.96533237e-01,\n",
       "        3.81170546e-01, -7.34867326e-01, -1.80153036e-01,  2.69993923e-01,\n",
       "       -4.40699800e-01,  4.58954842e-01,  1.20221894e+00,  1.05707949e+00,\n",
       "       -9.26709735e-01, -2.62151517e-01,  4.12873764e-01,  9.51895180e-01,\n",
       "       -1.82035008e-01,  2.05909696e-01, -3.62205891e-02,  1.64909150e-01,\n",
       "        3.50870550e-02, -6.51322007e-01, -1.10071462e+00,  1.10239015e-01,\n",
       "        1.00940874e+00, -3.22872511e-01, -6.86396836e-01, -3.72447165e-01,\n",
       "        1.11109849e+00,  6.57288975e-01, -1.00576561e-01,  1.89648021e+00,\n",
       "        3.43962315e-01,  2.34161901e-01,  3.68600332e-01,  8.69722112e-01,\n",
       "        8.62145163e-01,  9.93404808e-01, -1.97469710e-01,  7.98476353e-01,\n",
       "       -1.10964469e+00, -4.45596697e-01, -5.13701822e-01,  7.46462772e-01,\n",
       "       -1.43335627e+00, -5.69662544e-01, -5.31171657e-01, -6.39782067e-01,\n",
       "       -2.70193727e-01, -9.27538014e-01,  6.65862011e-02, -3.60068660e-01,\n",
       "        1.08171159e+00, -2.99478694e-01,  8.84023699e-01,  4.59543898e-01,\n",
       "        9.50298384e-01, -7.86344394e-02, -1.28323107e+00,  1.15862300e+00,\n",
       "        7.38062574e-01, -8.21171997e-01,  1.04588902e+00, -1.54296072e+00,\n",
       "        9.66833325e-01, -4.98282965e-01,  8.00057643e-01, -3.95012717e-01,\n",
       "        9.15517991e-01, -1.49782181e+00,  5.22660921e-01,  5.27705578e-01,\n",
       "        1.26221635e-03,  1.14477946e+00,  1.60914136e+00,  9.85090220e-01,\n",
       "       -7.20066725e-01, -7.78477121e-01, -6.47627714e-01])"
      ]
     },
     "execution_count": 28,
     "metadata": {},
     "output_type": "execute_result"
    }
   ],
   "source": [
    "image_pca"
   ]
  },
  {
   "cell_type": "code",
   "execution_count": 29,
   "metadata": {},
   "outputs": [],
   "source": [
    "recovered_from_pca = meanData.copy()\n",
    "for i in range(pca_columns):\n",
    "    recovered_from_pca += image_pca[i] * eigenValues[i] * eigenVectors[i]"
   ]
  },
  {
   "cell_type": "code",
   "execution_count": 30,
   "metadata": {},
   "outputs": [
    {
     "data": {
      "text/plain": [
       "array([-8.30572673e-07, -8.26042793e-15,  7.28689154e-07, -1.38158148e-13,\n",
       "       -4.69476584e-07, -1.24504785e-07, -4.88584873e-07,  1.88553600e-13,\n",
       "        1.75781359e-07,  8.27562621e-07,  1.67406559e+00,  2.58648698e-07,\n",
       "       -1.61953981e-07,  1.24469638e+00, -1.84599036e-07,  3.55158112e-07,\n",
       "        4.64641237e+00,  2.71610045e+00,  4.74404383e+00,  1.98366497e-13,\n",
       "       -1.74709958e-07, -7.35730921e-14,  1.02537513e+00,  5.83238056e-07,\n",
       "       -1.10047388e-13,  3.03989825e-07, -1.23132841e-13, -3.87376862e-07,\n",
       "        1.58832694e-07, -2.72547013e-07,  3.58801530e-14,  1.76143822e-14,\n",
       "       -4.30501988e-14, -2.59269578e-07, -2.51543659e-07,  9.44383460e-14,\n",
       "        5.16000986e-01,  2.46116744e-07,  3.67596578e-14,  6.68791436e-07,\n",
       "       -3.52233793e-08,  4.35242120e-14, -3.67191394e-08,  1.43867990e-13,\n",
       "        2.98658325e-07,  3.94759415e-08,  2.04160333e+00, -1.50137861e-07,\n",
       "        1.27384341e+00, -1.00947029e-13, -1.36277723e-07, -1.51687690e-13,\n",
       "        4.64612484e+00, -1.96762745e-13,  2.30477571e+00, -3.33317077e-08,\n",
       "       -2.60209557e-07,  6.22412324e-01,  4.42484903e+00, -3.28825352e-08,\n",
       "       -3.63440664e-08,  1.12400043e+00, -6.86406919e-08, -2.03170814e-14,\n",
       "        1.06426262e-07,  1.54848802e+00,  1.47350922e-07,  4.61442590e-01,\n",
       "        1.71426241e-13, -8.23370235e-14, -1.34194914e-07,  6.22532487e-08,\n",
       "       -1.05264673e-07,  1.18517530e+00,  1.26016641e+00,  3.41220108e-14,\n",
       "        5.01983140e-08, -1.56444773e-07,  8.23085090e-14,  1.12135995e-13,\n",
       "       -2.42597609e-13,  1.87335794e-08,  2.74907211e-08, -1.98532163e-13,\n",
       "        5.73351383e-01, -2.23147896e-08,  1.45389737e-07,  1.52400662e-13,\n",
       "        2.31082514e-13,  1.89397782e-01,  1.61958325e+00,  4.02835655e+00,\n",
       "       -3.84828551e-08, -2.53931234e-08, -5.17085792e-08,  1.43115389e+00,\n",
       "       -7.45952721e-08,  1.94778860e+00,  1.06869566e+00, -9.69328784e-14,\n",
       "        3.07462389e-14,  1.47142220e+00,  1.67131066e-13,  1.36094738e-07,\n",
       "        1.29731295e-13, -6.22669381e-09, -3.90126941e-08,  3.06171007e-09,\n",
       "        1.82071362e-08,  1.57175326e+00,  2.47293505e-13, -2.96403527e-14,\n",
       "        0.00000000e+00,  1.57066548e+00,  0.00000000e+00,  0.00000000e+00,\n",
       "        4.98983479e+00,  0.00000000e+00,  4.21225554e-14,  9.77273817e-14,\n",
       "        1.91644877e-13,  0.00000000e+00,  0.00000000e+00,  0.00000000e+00,\n",
       "        0.00000000e+00,  0.00000000e+00,  1.33545952e-13,  0.00000000e+00,\n",
       "        0.00000000e+00, -1.43735718e-13, -2.28697269e-14,  0.00000000e+00,\n",
       "        8.78021359e-01,  0.00000000e+00,  0.00000000e+00, -7.04210995e-15,\n",
       "        0.00000000e+00,  0.00000000e+00, -5.41233725e-15, -1.47889947e-13,\n",
       "        0.00000000e+00,  1.35192418e+00,  0.00000000e+00, -3.06933298e-14,\n",
       "        2.04655981e+00,  3.84679222e+00,  0.00000000e+00,  0.00000000e+00,\n",
       "        1.76532328e-01,  0.00000000e+00,  2.62574339e+00,  1.03977215e+00,\n",
       "        2.33606537e-13, -4.60990024e-14,  1.23166335e+00,  0.00000000e+00,\n",
       "        0.00000000e+00, -1.22700461e-13,  0.00000000e+00,  7.23830718e-14,\n",
       "        0.00000000e+00,  1.28057287e-14,  6.03857242e-14,  0.00000000e+00,\n",
       "       -3.15511506e-14,  0.00000000e+00,  1.51956773e+00,  2.93515212e-14,\n",
       "        0.00000000e+00,  1.56125113e-14, -2.00616569e-14,  1.06297600e+00,\n",
       "        0.00000000e+00,  9.98290241e-01,  2.19573069e+00,  5.76066972e-14,\n",
       "        3.93836403e+00,  0.00000000e+00,  5.72694421e-01,  3.06946742e-13,\n",
       "        2.72847717e-13,  0.00000000e+00,  0.00000000e+00,  5.09415925e-01,\n",
       "       -7.86610360e-15,  0.00000000e+00,  0.00000000e+00,  0.00000000e+00,\n",
       "        0.00000000e+00,  0.00000000e+00,  4.07234383e+00,  0.00000000e+00,\n",
       "        0.00000000e+00, -2.00222976e-13, -5.84567117e-14,  0.00000000e+00,\n",
       "        3.84197545e+00,  0.00000000e+00,  3.00013486e-13, -6.78797296e-15])"
      ]
     },
     "execution_count": 30,
     "metadata": {},
     "output_type": "execute_result"
    }
   ],
   "source": [
    "recovered_from_pca"
   ]
  },
  {
   "cell_type": "code",
   "execution_count": 31,
   "metadata": {},
   "outputs": [
    {
     "data": {
      "text/plain": [
       "<matplotlib.image.AxesImage at 0x7faefc6df1d0>"
      ]
     },
     "execution_count": 31,
     "metadata": {},
     "output_type": "execute_result"
    },
    {
     "data": {
      "image/png": "[encoded data removed]",
      "text/plain": [
       "<Figure size 432x288 with 1 Axes>"
      ]
     },
     "metadata": {
      "needs_background": "light"
     },
     "output_type": "display_data"
    }
   ],
   "source": [
    "decoded = decoder.predict(recovered_from_pca.reshape(1,DENSE_SIZE))\n",
    "plt.imshow(decoded[0])"
   ]
  },
  {
   "cell_type": "markdown",
   "metadata": {},
   "source": [
    "### Save all images as encodings in json file"
   ]
  },
  {
   "cell_type": "code",
   "execution_count": 32,
   "metadata": {},
   "outputs": [],
   "source": [
    "json_all_rows_pca = json.dumps(all_rows_pca.tolist())\n",
    "\n",
    "text_file = open(\"../models/facesPca.json\", \"w\")\n",
    "text_file.write(json_all_rows_pca)\n",
    "text_file.close()"
   ]
  }
 ],
 "metadata": {
  "kernelspec": {
   "display_name": "Python 3",
   "language": "python",
   "name": "python3"
  },
  "language_info": {
   "codemirror_mode": {
    "name": "ipython",
    "version": 3
   },
   "file_extension": ".py",
   "mimetype": "text/x-python",
   "name": "python",
   "nbconvert_exporter": "python",
   "pygments_lexer": "ipython3",
   "version": "3.5.2"
  }
 },
 "nbformat": 4,
 "nbformat_minor": 2
}
