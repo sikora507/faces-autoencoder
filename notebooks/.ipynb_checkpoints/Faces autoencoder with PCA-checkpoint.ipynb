{
 "cells": [
  {
   "cell_type": "code",
   "execution_count": 1,
   "metadata": {},
   "outputs": [],
   "source": [
    "import os\n",
    "import tensorflow as tf\n",
    "import numpy as np\n",
    "from scipy import misc\n",
    "import random\n",
    "import math\n",
    "import face_recognition\n",
    "from skimage import transform\n",
    "import os.path\n",
    "import urllib.request\n",
    "import time\n",
    "import requests\n",
    "import matplotlib.pyplot as plt\n",
    "import json\n",
    "from sklearn.decomposition import PCA\n",
    "from tensorflow.keras.layers import Input, Dense, Conv2D, MaxPooling2D, UpSampling2D, Reshape, Flatten\n",
    "from tensorflow.keras.models import Model, Sequential\n",
    "from tensorflow.keras import backend as K\n",
    "from tensorflow.keras.models import load_model"
   ]
  },
  {
   "cell_type": "code",
   "execution_count": 2,
   "metadata": {},
   "outputs": [],
   "source": [
    "%matplotlib inline"
   ]
  },
  {
   "cell_type": "markdown",
   "metadata": {},
   "source": [
    "## Set global variables"
   ]
  },
  {
   "cell_type": "code",
   "execution_count": 3,
   "metadata": {},
   "outputs": [],
   "source": [
    "IMAGE_WIDTH = 64\n",
    "IMAGE_HEIGHT = 64\n",
    "DENSE_SIZE = 90"
   ]
  },
  {
   "cell_type": "markdown",
   "metadata": {},
   "source": [
    "### Set up variables and download helpers"
   ]
  },
  {
   "cell_type": "code",
   "execution_count": 4,
   "metadata": {},
   "outputs": [],
   "source": [
    "START_MONTH = 9\n",
    "START_DATE = 11\n",
    "START_SLOT = 0\n",
    "\n",
    "DESIRED_X = 32\n",
    "DESIRED_Y = 21\n",
    "DESIRED_SIZE = 24\n",
    "\n",
    "NAMES_PER_FILE = 100\n",
    "TEMP_FILENAME = \"temp.png\"\n",
    "monthOn = 0\n",
    "dayOn = 0\n",
    "daysInMonth = [31,29,31,30,31,30,31,31,30,31,30,31]\n",
    "monthNames = ['january','february','march','april','may','june','july','august','september','october','november','december']\n",
    "\n",
    "def getAvg(face, landmark):\n",
    "    cum = np.zeros((2))\n",
    "    for point in face[landmark]:\n",
    "        cum[0] += point[0]\n",
    "        cum[1] += point[1]\n",
    "    return cum/len(face[landmark])\n",
    "\n",
    "def getNorm(a):\n",
    "    return (a-np.mean(a))/np.std(a)\n"
   ]
  },
  {
   "cell_type": "markdown",
   "metadata": {},
   "source": [
    "## Download all the data"
   ]
  },
  {
   "cell_type": "code",
   "execution_count": null,
   "metadata": {},
   "outputs": [],
   "source": [
    "imageCounter = 10267\n",
    "for monthOn in range(START_MONTH,12):\n",
    "    thisStartDate = 1\n",
    "    if monthOn == START_MONTH:\n",
    "        thisStartDate = START_DATE\n",
    "    for dayOn in range(thisStartDate,daysInMonth[monthOn]+1):\n",
    "        response = urllib.request.urlopen(\"https://www.famousbirthdays.com/\"+monthNames[monthOn]+str(dayOn)+\".html\")\n",
    "        pageSource = response.read().splitlines()\n",
    "        lineOn = 0\n",
    "        while str(pageSource[lineOn]) != \"b'<div class=\\\"container people-list\\\">'\":\n",
    "            lineOn += 1\n",
    "\n",
    "        thisStartSlot = 0\n",
    "        if monthOn == START_MONTH and dayOn == START_DATE:\n",
    "            thisStartSlot = START_SLOT\n",
    "        for slotOn in range(0,48):\n",
    "            while \"class=\\\"face person-item\\\"\" not in str(pageSource[lineOn]):\n",
    "                lineOn += 1\n",
    "            iul = str(pageSource[lineOn])\n",
    "            pnl = str(pageSource[lineOn+4])\n",
    "            imageURL = iul[iul.index(\"background: url(\")+16:iul.index(\") no-repeat center center\")]\n",
    "            personName = \"\"\n",
    "            age = \"\"\n",
    "            pnl_s = 2\n",
    "            if pnl[pnl_s] == ' ':\n",
    "               pnl_s += 1\n",
    "            if \",\" in pnl:\n",
    "                personName = pnl[pnl_s:pnl.index(\",\")]\n",
    "                age = pnl[pnl.index(\",\")+2:-1]\n",
    "            else:\n",
    "                personName = pnl[pnl_s:pnl.index(\"(\")-1]\n",
    "                age = pnl[pnl.index(\"(\")+1:pnl.index(\")\")]\n",
    "\n",
    "            if slotOn < thisStartSlot or imageURL == 'https://www.famousbirthdays.com/faces/large-default.jpg' or personName == \"Ronan Domingo\"  or personName == \"Glam And Gore\" or personName == \"Edith Piaf\" or personName == \"Lexi Marie\":\n",
    "                print(personName+\" SKIPPED!\")\n",
    "            else:\n",
    "            \n",
    "                img_data = requests.get(imageURL).content\n",
    "                with open(\"temp.png\", 'wb') as handler:\n",
    "                    handler.write(img_data)\n",
    "                \n",
    "                image_face_info = face_recognition.load_image_file(TEMP_FILENAME)\n",
    "                face_landmarks = face_recognition.face_landmarks(image_face_info)\n",
    "\n",
    "                image_numpy = misc.imread(TEMP_FILENAME)\n",
    "                colorAmount = 0\n",
    "                if len(image_numpy.shape) == 3:\n",
    "                    nR = getNorm(image_numpy[:,:,0])\n",
    "                    nG = getNorm(image_numpy[:,:,1])\n",
    "                    nB = getNorm(image_numpy[:,:,2])\n",
    "                    colorAmount = np.mean(np.square(nR-nG))+np.mean(np.square(nR-nB))+np.mean(np.square(nG-nB))\n",
    "                if len(face_landmarks) == 1 and colorAmount >= 0.04: # We need there to only be one face in the image, AND we need it to be a colored image.\n",
    "                    leftEyePosition = getAvg(face_landmarks[0],'left_eye')\n",
    "                    rightEyePosition = getAvg(face_landmarks[0],'right_eye')\n",
    "                    nosePosition = getAvg(face_landmarks[0],'nose_tip')\n",
    "                    mouthPosition = getAvg(face_landmarks[0],'bottom_lip')\n",
    "            \n",
    "                    centralPosition = (leftEyePosition+rightEyePosition)/2\n",
    "            \n",
    "                    faceWidth = np.linalg.norm(leftEyePosition-rightEyePosition)\n",
    "                    faceHeight = np.linalg.norm(centralPosition-mouthPosition)\n",
    "                    if faceWidth >= faceHeight*0.7 and faceWidth <= faceHeight*1.5:\n",
    "\n",
    "                        faceSize = (faceWidth+faceHeight)/2\n",
    "            \n",
    "                        toScaleFactor = faceSize/DESIRED_SIZE\n",
    "                        toXShift = (centralPosition[0])\n",
    "                        toYShift = (centralPosition[1])\n",
    "                        toRotateFactor = np.arctan2(rightEyePosition[1]-leftEyePosition[1],rightEyePosition[0]-leftEyePosition[0])\n",
    "            \n",
    "                        rotateT = transform.SimilarityTransform(scale=toScaleFactor,rotation=toRotateFactor,translation=(toXShift,toYShift))\n",
    "                        moveT = transform.SimilarityTransform(scale=1,rotation=0,translation=(-DESIRED_X,-DESIRED_Y))\n",
    "\n",
    "                        outputArr = transform.warp(image=image_numpy,inverse_map=(moveT+rotateT))[0:IMAGE_HEIGHT,0:IMAGE_WIDTH]\n",
    "\n",
    "                        misc.imsave(\"../data/dataFace\"+str(imageCounter)+\".png\",outputArr)\n",
    "                        if imageCounter%NAMES_PER_FILE == 0:\n",
    "                            f = open(\"../names/name\"+str(imageCounter)+\".txt\",\"w+\")\n",
    "                        fame = str(slotOn)\n",
    "                        if monthOn == 1 and dayOn == 29:\n",
    "                            fame *= 4\n",
    "                        f.write(personName+\",\"+fame+\",\"+age+\"\\n\")\n",
    "                        if imageCounter%NAMES_PER_FILE == (NAMES_PER_FILE-1):\n",
    "                            f.close()\n",
    "                        print(\"DAY \"+monthNames[monthOn]+\" \"+str(dayOn)+\":  I just used person \"+personName+\" to create image number \"+str(imageCounter))\n",
    "                        imageCounter += 1\n",
    "                time.sleep(0.5)\n",
    "            lineOn += 1\n"
   ]
  },
  {
   "cell_type": "markdown",
   "metadata": {},
   "source": [
    "### Store images count"
   ]
  },
  {
   "cell_type": "code",
   "execution_count": 5,
   "metadata": {},
   "outputs": [],
   "source": [
    "images_count = len(os.listdir('../data/'))"
   ]
  },
  {
   "cell_type": "markdown",
   "metadata": {},
   "source": [
    "### Setup helper functions"
   ]
  },
  {
   "cell_type": "code",
   "execution_count": 6,
   "metadata": {},
   "outputs": [],
   "source": [
    "def CreateAutoEncoder():\n",
    "    input_img = Input(shape=(IMAGE_HEIGHT, IMAGE_WIDTH, 3))  # adapt this if using `channels_first` image data format\n",
    "\n",
    "    x = Conv2D(40, (3, 3), activation='relu', padding='same')(input_img)\n",
    "    x = MaxPooling2D((2, 2), padding='same')(x)\n",
    "    x = Conv2D(80, (3, 3), activation='relu', padding='same')(x)\n",
    "    x = MaxPooling2D((2, 2), padding='same')(x)\n",
    "    x = Conv2D(150, (3, 3), activation='relu', padding='same')(x)\n",
    "    x = MaxPooling2D((2, 2), padding='same')(x)\n",
    "    x = Conv2D(200, (3, 3), activation='relu', padding='same')(x)\n",
    "    x = MaxPooling2D((2, 2), padding='same')(x)\n",
    "    x = Flatten()(x)\n",
    "    encoded = Dense(DENSE_SIZE, activation='relu')(x)\n",
    "\n",
    "    y = Dense(3200, activation='relu')(encoded)\n",
    "    y = Reshape([4,4,200])(y)\n",
    "    y = UpSampling2D((2, 2))(y)\n",
    "    y = Conv2D(150, (3, 3), activation='relu', padding='same')(y)\n",
    "    y = UpSampling2D((2, 2))(y)\n",
    "    y = Conv2D(80, (3, 3), activation='relu', padding='same')(y)\n",
    "    y = UpSampling2D((2, 2))(y)\n",
    "    y = Conv2D(40, (3, 3), activation='relu', padding='same')(y)\n",
    "    y = UpSampling2D((2, 2))(y)\n",
    "    y = Conv2D(15, (3, 3), activation='relu', padding='same')(y)\n",
    "    decoded = Conv2D(3, (3, 3), activation='sigmoid', padding='same')(y)\n",
    "\n",
    "    autoencoder = Model(input_img, decoded)\n",
    "    optimizer = tf.keras.optimizers.Adam()\n",
    "    autoencoder.compile(optimizer=optimizer, loss='binary_crossentropy')\n",
    "    return autoencoder\n"
   ]
  },
  {
   "cell_type": "code",
   "execution_count": 7,
   "metadata": {},
   "outputs": [],
   "source": [
    "def WriteOutputFileResult(epoch):\n",
    "    if epoch%10!=0:\n",
    "        return\n",
    "    \n",
    "    imageIndex = np.random.randint(images_count)\n",
    "    output = autoencoder.predict(batch_data[imageIndex].reshape(1,64,64,3))\n",
    "    exampleImage = np.empty([IMAGE_HEIGHT*2,IMAGE_WIDTH,3])\n",
    "    exampleImage[0:IMAGE_HEIGHT,0:IMAGE_WIDTH,0:3] = batch_data[imageIndex,0:IMAGE_HEIGHT,0:IMAGE_WIDTH,0:3]\n",
    "    exampleImage[IMAGE_HEIGHT:IMAGE_HEIGHT*2,0:IMAGE_WIDTH,0:3] = output[0,0:IMAGE_HEIGHT,0:IMAGE_WIDTH,0:3]\n",
    "    exampleImage = np.clip(exampleImage, 0, 1)\n",
    "    misc.imsave('../modelExamples/encoder'+str(epoch)+'.png',exampleImage)\n",
    "\n",
    "    save_path='../models/keras.h5'\n",
    "    autoencoder.save(save_path)\n",
    "    print(\"MODEL SAVED: \"+str(save_path))"
   ]
  },
  {
   "cell_type": "markdown",
   "metadata": {},
   "source": [
    "## Train autoencoder"
   ]
  },
  {
   "cell_type": "code",
   "execution_count": 9,
   "metadata": {},
   "outputs": [],
   "source": [
    "#autoencoder = load_model('../models/keras.h5', custom_objects={\"GlorotUniform\": tf.keras.initializers.glorot_uniform})"
   ]
  },
  {
   "cell_type": "code",
   "execution_count": null,
   "metadata": {},
   "outputs": [],
   "source": [
    "modelPath = '../models/keras.h5'\n",
    "if os.path.isfile(modelPath):\n",
    "    print('Loading existing model')\n",
    "    autoencoder = load_model('../models/keras.h5', custom_objects={\"GlorotUniform\": tf.keras.initializers.glorot_uniform})\n",
    "else:\n",
    "    print('Creating new model')\n",
    "    autoencoder = CreateAutoEncoder()\n",
    "batch_data = np.empty([images_count,IMAGE_HEIGHT,IMAGE_WIDTH,3])\n",
    "for example in range(images_count):\n",
    "    imageIndex = example# +  int(math.floor(random.randrange(images_count)))\n",
    "    imagio = misc.imread('../data/dataFace'+str(imageIndex)+'.png')\n",
    "    batch_data[example] = imagio[:,:,0:3]/255.0\n",
    "autoencoder.fit(batch_data, batch_data,\n",
    "    epochs=1000000,\n",
    "    batch_size=200,\n",
    "    shuffle=True,\n",
    "    #validation_data=(batch_data, batch_data),\n",
    "    callbacks=[\n",
    "        #tf.keras.callbacks.ModelCheckpoint('../models/keras.h5', monitor='val_loss', verbose=0, save_best_only=True, save_weights_only=False, mode='auto', period=1),\n",
    "        tf.keras.callbacks.LambdaCallback(on_epoch_end=lambda epoch, logs: WriteOutputFileResult(epoch))\n",
    "    ])\n",
    "\n"
   ]
  },
  {
   "cell_type": "markdown",
   "metadata": {},
   "source": [
    "## Tear apart encoder and decoder"
   ]
  },
  {
   "cell_type": "code",
   "execution_count": 10,
   "metadata": {},
   "outputs": [
    {
     "data": {
      "text/plain": [
       "['input_5',\n",
       " 'conv2d_18',\n",
       " 'max_pooling2d_8',\n",
       " 'conv2d_19',\n",
       " 'max_pooling2d_9',\n",
       " 'conv2d_20',\n",
       " 'max_pooling2d_10',\n",
       " 'conv2d_21',\n",
       " 'max_pooling2d_11',\n",
       " 'flatten_2',\n",
       " 'dense_4',\n",
       " 'dense_5',\n",
       " 'reshape_2',\n",
       " 'up_sampling2d_8',\n",
       " 'conv2d_22',\n",
       " 'up_sampling2d_9',\n",
       " 'conv2d_23',\n",
       " 'up_sampling2d_10',\n",
       " 'conv2d_24',\n",
       " 'up_sampling2d_11',\n",
       " 'conv2d_25',\n",
       " 'conv2d_26']"
      ]
     },
     "execution_count": 10,
     "metadata": {},
     "output_type": "execute_result"
    }
   ],
   "source": [
    "[layer.name for layer in autoencoder.layers]"
   ]
  },
  {
   "cell_type": "code",
   "execution_count": 11,
   "metadata": {
    "scrolled": true
   },
   "outputs": [
    {
     "name": "stdout",
     "output_type": "stream",
     "text": [
      "_________________________________________________________________\n",
      "Layer (type)                 Output Shape              Param #   \n",
      "=================================================================\n",
      "input_1 (InputLayer)         (None, 90)                0         \n",
      "_________________________________________________________________\n",
      "dense_5 (Dense)              (None, 3200)              291200    \n",
      "_________________________________________________________________\n",
      "reshape_2 (Reshape)          (None, 4, 4, 200)         0         \n",
      "_________________________________________________________________\n",
      "up_sampling2d_8 (UpSampling2 (None, 8, 8, 200)         0         \n",
      "_________________________________________________________________\n",
      "conv2d_22 (Conv2D)           (None, 8, 8, 150)         270150    \n",
      "_________________________________________________________________\n",
      "up_sampling2d_9 (UpSampling2 (None, 16, 16, 150)       0         \n",
      "_________________________________________________________________\n",
      "conv2d_23 (Conv2D)           (None, 16, 16, 80)        108080    \n",
      "_________________________________________________________________\n",
      "up_sampling2d_10 (UpSampling (None, 32, 32, 80)        0         \n",
      "_________________________________________________________________\n",
      "conv2d_24 (Conv2D)           (None, 32, 32, 40)        28840     \n",
      "_________________________________________________________________\n",
      "up_sampling2d_11 (UpSampling (None, 64, 64, 40)        0         \n",
      "_________________________________________________________________\n",
      "conv2d_25 (Conv2D)           (None, 64, 64, 15)        5415      \n",
      "_________________________________________________________________\n",
      "conv2d_26 (Conv2D)           (None, 64, 64, 3)         408       \n",
      "=================================================================\n",
      "Total params: 704,093\n",
      "Trainable params: 291,200\n",
      "Non-trainable params: 412,893\n",
      "_________________________________________________________________\n"
     ]
    }
   ],
   "source": [
    "encoder = Sequential()\n",
    "for i in range(0,11):\n",
    "    encoder.add(autoencoder.layers[i])\n",
    "encoder.build()\n",
    "\n",
    "# this looks redundant, but it's needed to properly export\n",
    "# model to tensorflowJS format that will be possible to use\n",
    "# in the browser\n",
    "decoder = Sequential()\n",
    "for i in range(11,len(autoencoder.layers)):\n",
    "    decoder.add(autoencoder.layers[i])\n",
    "decoder.build(input_shape=(None, 90))\n",
    "\n",
    "dec_input = Input(shape=(90,))\n",
    "dec_output = decoder.layers[0](dec_input)\n",
    "for i in range(1,len(decoder.layers)):\n",
    "    decoder.layers[i].trainable=False\n",
    "    dec_output = decoder.layers[i](dec_output)\n",
    "decoder = Model(dec_input, dec_output)\n",
    "decoder.summary()\n",
    "decoder.compile(optimizer='adagrad', loss='binary_crossentropy')\n"
   ]
  },
  {
   "cell_type": "code",
   "execution_count": 12,
   "metadata": {},
   "outputs": [],
   "source": [
    "def getEncodedImage(index):\n",
    "    image = misc.imread('../data/dataFace'+str(index)+'.png')\n",
    "    image = image[:,:,0:3]/255.0\n",
    "    return image"
   ]
  },
  {
   "cell_type": "markdown",
   "metadata": {},
   "source": [
    "### Preview random image to be encoded"
   ]
  },
  {
   "cell_type": "code",
   "execution_count": 13,
   "metadata": {},
   "outputs": [
    {
     "name": "stderr",
     "output_type": "stream",
     "text": [
      "/usr/local/lib/python3.5/dist-packages/ipykernel_launcher.py:2: DeprecationWarning: `imread` is deprecated!\n",
      "`imread` is deprecated in SciPy 1.0.0, and will be removed in 1.2.0.\n",
      "Use ``imageio.imread`` instead.\n",
      "  \n"
     ]
    },
    {
     "data": {
      "text/plain": [
       "<matplotlib.image.AxesImage at 0x7fb93013bef0>"
      ]
     },
     "execution_count": 13,
     "metadata": {},
     "output_type": "execute_result"
    },
    {
     "data": {
      "image/png": "[encoded data removed]",
      "text/plain": [
       "<Figure size 432x288 with 1 Axes>"
      ]
     },
     "metadata": {
      "needs_background": "light"
     },
     "output_type": "display_data"
    }
   ],
   "source": [
    "randIndex = 0 #np.random.randint(0, images_count)\n",
    "image = getEncodedImage(randIndex)\n",
    "plt.imshow(image)"
   ]
  },
  {
   "cell_type": "code",
   "execution_count": 14,
   "metadata": {},
   "outputs": [
    {
     "name": "stdout",
     "output_type": "stream",
     "text": [
      "Encoded image:\n",
      " [1.185619   0.         0.         0.         0.         1.2334177\n",
      " 0.         0.9048997  0.6996028  0.         0.         0.\n",
      " 0.         0.         0.         0.         0.         0.\n",
      " 0.         0.         0.         0.         0.6473769  0.5568536\n",
      " 1.3302875  0.         0.         0.         0.         0.\n",
      " 0.         0.         0.47524002 0.4830742  0.         0.\n",
      " 0.         0.         1.3309177  0.         0.         0.\n",
      " 0.         0.71094865 0.         1.1644648  0.         0.\n",
      " 0.         0.         1.1319467  0.         0.72256625 0.\n",
      " 0.         0.         0.8128762  0.         0.         0.\n",
      " 2.5420327  0.         0.         0.         0.         0.\n",
      " 0.         0.         0.77186465 0.71098304 0.         0.9035849\n",
      " 0.         0.         0.9000814  0.         0.         0.6302799\n",
      " 0.         0.         0.         0.80187684 1.3965821  0.\n",
      " 0.5903191  0.66276574 0.         1.3100547  0.         0.        ]\n"
     ]
    }
   ],
   "source": [
    "encoded = encoder.predict(image.reshape([-1, image.shape[0], image.shape[1], image.shape[2]]))\n",
    "print('Encoded image:\\n' ,encoded[0])"
   ]
  },
  {
   "cell_type": "code",
   "execution_count": 15,
   "metadata": {},
   "outputs": [],
   "source": [
    "decoded = decoder.predict(encoded)"
   ]
  },
  {
   "cell_type": "markdown",
   "metadata": {},
   "source": [
    "### Recreate image from encoded state"
   ]
  },
  {
   "cell_type": "code",
   "execution_count": 16,
   "metadata": {},
   "outputs": [
    {
     "data": {
      "text/plain": [
       "<matplotlib.image.AxesImage at 0x7fb8d84e1160>"
      ]
     },
     "execution_count": 16,
     "metadata": {},
     "output_type": "execute_result"
    },
    {
     "data": {
      "image/png": "[encoded data removed]",
      "text/plain": [
       "<Figure size 432x288 with 1 Axes>"
      ]
     },
     "metadata": {
      "needs_background": "light"
     },
     "output_type": "display_data"
    }
   ],
   "source": [
    "plt.imshow(decoded[0])"
   ]
  },
  {
   "cell_type": "markdown",
   "metadata": {},
   "source": [
    "## Create dataframe to inspect all encoded images together"
   ]
  },
  {
   "cell_type": "code",
   "execution_count": 17,
   "metadata": {},
   "outputs": [],
   "source": [
    "import pandas as pd"
   ]
  },
  {
   "cell_type": "code",
   "execution_count": 18,
   "metadata": {},
   "outputs": [
    {
     "name": "stderr",
     "output_type": "stream",
     "text": [
      "/usr/local/lib/python3.5/dist-packages/ipykernel_launcher.py:2: DeprecationWarning: `imread` is deprecated!\n",
      "`imread` is deprecated in SciPy 1.0.0, and will be removed in 1.2.0.\n",
      "Use ``imageio.imread`` instead.\n",
      "  \n"
     ]
    },
    {
     "data": {
      "text/html": [
       "<div>\n",
       "<style scoped>\n",
       "    .dataframe tbody tr th:only-of-type {\n",
       "        vertical-align: middle;\n",
       "    }\n",
       "\n",
       "    .dataframe tbody tr th {\n",
       "        vertical-align: top;\n",
       "    }\n",
       "\n",
       "    .dataframe thead th {\n",
       "        text-align: right;\n",
       "    }\n",
       "</style>\n",
       "<table border=\"1\" class=\"dataframe\">\n",
       "  <thead>\n",
       "    <tr style=\"text-align: right;\">\n",
       "      <th></th>\n",
       "      <th>0</th>\n",
       "      <th>1</th>\n",
       "      <th>2</th>\n",
       "      <th>3</th>\n",
       "      <th>4</th>\n",
       "      <th>5</th>\n",
       "      <th>6</th>\n",
       "      <th>7</th>\n",
       "      <th>8</th>\n",
       "      <th>9</th>\n",
       "      <th>...</th>\n",
       "      <th>80</th>\n",
       "      <th>81</th>\n",
       "      <th>82</th>\n",
       "      <th>83</th>\n",
       "      <th>84</th>\n",
       "      <th>85</th>\n",
       "      <th>86</th>\n",
       "      <th>87</th>\n",
       "      <th>88</th>\n",
       "      <th>89</th>\n",
       "    </tr>\n",
       "  </thead>\n",
       "  <tbody>\n",
       "    <tr>\n",
       "      <th>count</th>\n",
       "      <td>13228.000000</td>\n",
       "      <td>13228.0</td>\n",
       "      <td>13228.0</td>\n",
       "      <td>13228.0</td>\n",
       "      <td>13228.0</td>\n",
       "      <td>13228.000000</td>\n",
       "      <td>13228.0</td>\n",
       "      <td>13228.000000</td>\n",
       "      <td>13228.000000</td>\n",
       "      <td>13228.0</td>\n",
       "      <td>...</td>\n",
       "      <td>13228.0</td>\n",
       "      <td>13228.000000</td>\n",
       "      <td>13228.000000</td>\n",
       "      <td>13228.0</td>\n",
       "      <td>13228.000000</td>\n",
       "      <td>13228.000000</td>\n",
       "      <td>13228.0</td>\n",
       "      <td>13228.000000</td>\n",
       "      <td>13228.0</td>\n",
       "      <td>13228.0</td>\n",
       "    </tr>\n",
       "    <tr>\n",
       "      <th>mean</th>\n",
       "      <td>1.169773</td>\n",
       "      <td>0.0</td>\n",
       "      <td>0.0</td>\n",
       "      <td>0.0</td>\n",
       "      <td>0.0</td>\n",
       "      <td>1.092326</td>\n",
       "      <td>0.0</td>\n",
       "      <td>0.928655</td>\n",
       "      <td>1.248597</td>\n",
       "      <td>0.0</td>\n",
       "      <td>...</td>\n",
       "      <td>0.0</td>\n",
       "      <td>1.299901</td>\n",
       "      <td>1.110633</td>\n",
       "      <td>0.0</td>\n",
       "      <td>1.122023</td>\n",
       "      <td>0.993700</td>\n",
       "      <td>0.0</td>\n",
       "      <td>1.001647</td>\n",
       "      <td>0.0</td>\n",
       "      <td>0.0</td>\n",
       "    </tr>\n",
       "    <tr>\n",
       "      <th>std</th>\n",
       "      <td>0.507703</td>\n",
       "      <td>0.0</td>\n",
       "      <td>0.0</td>\n",
       "      <td>0.0</td>\n",
       "      <td>0.0</td>\n",
       "      <td>0.526721</td>\n",
       "      <td>0.0</td>\n",
       "      <td>0.458489</td>\n",
       "      <td>0.646425</td>\n",
       "      <td>0.0</td>\n",
       "      <td>...</td>\n",
       "      <td>0.0</td>\n",
       "      <td>0.575462</td>\n",
       "      <td>0.533455</td>\n",
       "      <td>0.0</td>\n",
       "      <td>0.520116</td>\n",
       "      <td>0.511088</td>\n",
       "      <td>0.0</td>\n",
       "      <td>0.452328</td>\n",
       "      <td>0.0</td>\n",
       "      <td>0.0</td>\n",
       "    </tr>\n",
       "    <tr>\n",
       "      <th>min</th>\n",
       "      <td>0.000000</td>\n",
       "      <td>0.0</td>\n",
       "      <td>0.0</td>\n",
       "      <td>0.0</td>\n",
       "      <td>0.0</td>\n",
       "      <td>0.000000</td>\n",
       "      <td>0.0</td>\n",
       "      <td>0.000000</td>\n",
       "      <td>0.000000</td>\n",
       "      <td>0.0</td>\n",
       "      <td>...</td>\n",
       "      <td>0.0</td>\n",
       "      <td>0.000000</td>\n",
       "      <td>0.000000</td>\n",
       "      <td>0.0</td>\n",
       "      <td>0.000000</td>\n",
       "      <td>0.000000</td>\n",
       "      <td>0.0</td>\n",
       "      <td>0.000000</td>\n",
       "      <td>0.0</td>\n",
       "      <td>0.0</td>\n",
       "    </tr>\n",
       "    <tr>\n",
       "      <th>25%</th>\n",
       "      <td>0.825467</td>\n",
       "      <td>0.0</td>\n",
       "      <td>0.0</td>\n",
       "      <td>0.0</td>\n",
       "      <td>0.0</td>\n",
       "      <td>0.722806</td>\n",
       "      <td>0.0</td>\n",
       "      <td>0.610363</td>\n",
       "      <td>0.806668</td>\n",
       "      <td>0.0</td>\n",
       "      <td>...</td>\n",
       "      <td>0.0</td>\n",
       "      <td>0.905026</td>\n",
       "      <td>0.746083</td>\n",
       "      <td>0.0</td>\n",
       "      <td>0.763233</td>\n",
       "      <td>0.647264</td>\n",
       "      <td>0.0</td>\n",
       "      <td>0.693705</td>\n",
       "      <td>0.0</td>\n",
       "      <td>0.0</td>\n",
       "    </tr>\n",
       "    <tr>\n",
       "      <th>50%</th>\n",
       "      <td>1.136732</td>\n",
       "      <td>0.0</td>\n",
       "      <td>0.0</td>\n",
       "      <td>0.0</td>\n",
       "      <td>0.0</td>\n",
       "      <td>1.045580</td>\n",
       "      <td>0.0</td>\n",
       "      <td>0.888308</td>\n",
       "      <td>1.177368</td>\n",
       "      <td>0.0</td>\n",
       "      <td>...</td>\n",
       "      <td>0.0</td>\n",
       "      <td>1.244806</td>\n",
       "      <td>1.052875</td>\n",
       "      <td>0.0</td>\n",
       "      <td>1.097230</td>\n",
       "      <td>0.940482</td>\n",
       "      <td>0.0</td>\n",
       "      <td>0.981564</td>\n",
       "      <td>0.0</td>\n",
       "      <td>0.0</td>\n",
       "    </tr>\n",
       "    <tr>\n",
       "      <th>75%</th>\n",
       "      <td>1.480820</td>\n",
       "      <td>0.0</td>\n",
       "      <td>0.0</td>\n",
       "      <td>0.0</td>\n",
       "      <td>0.0</td>\n",
       "      <td>1.398070</td>\n",
       "      <td>0.0</td>\n",
       "      <td>1.212442</td>\n",
       "      <td>1.593209</td>\n",
       "      <td>0.0</td>\n",
       "      <td>...</td>\n",
       "      <td>0.0</td>\n",
       "      <td>1.633125</td>\n",
       "      <td>1.406588</td>\n",
       "      <td>0.0</td>\n",
       "      <td>1.452765</td>\n",
       "      <td>1.277784</td>\n",
       "      <td>0.0</td>\n",
       "      <td>1.283858</td>\n",
       "      <td>0.0</td>\n",
       "      <td>0.0</td>\n",
       "    </tr>\n",
       "    <tr>\n",
       "      <th>max</th>\n",
       "      <td>4.195548</td>\n",
       "      <td>0.0</td>\n",
       "      <td>0.0</td>\n",
       "      <td>0.0</td>\n",
       "      <td>0.0</td>\n",
       "      <td>3.896302</td>\n",
       "      <td>0.0</td>\n",
       "      <td>3.248031</td>\n",
       "      <td>5.779648</td>\n",
       "      <td>0.0</td>\n",
       "      <td>...</td>\n",
       "      <td>0.0</td>\n",
       "      <td>5.780103</td>\n",
       "      <td>4.497020</td>\n",
       "      <td>0.0</td>\n",
       "      <td>4.554452</td>\n",
       "      <td>3.966504</td>\n",
       "      <td>0.0</td>\n",
       "      <td>3.405080</td>\n",
       "      <td>0.0</td>\n",
       "      <td>0.0</td>\n",
       "    </tr>\n",
       "  </tbody>\n",
       "</table>\n",
       "<p>8 rows × 90 columns</p>\n",
       "</div>"
      ],
      "text/plain": [
       "                 0        1        2        3        4             5   \\\n",
       "count  13228.000000  13228.0  13228.0  13228.0  13228.0  13228.000000   \n",
       "mean       1.169773      0.0      0.0      0.0      0.0      1.092326   \n",
       "std        0.507703      0.0      0.0      0.0      0.0      0.526721   \n",
       "min        0.000000      0.0      0.0      0.0      0.0      0.000000   \n",
       "25%        0.825467      0.0      0.0      0.0      0.0      0.722806   \n",
       "50%        1.136732      0.0      0.0      0.0      0.0      1.045580   \n",
       "75%        1.480820      0.0      0.0      0.0      0.0      1.398070   \n",
       "max        4.195548      0.0      0.0      0.0      0.0      3.896302   \n",
       "\n",
       "            6             7             8        9    ...          80  \\\n",
       "count  13228.0  13228.000000  13228.000000  13228.0   ...     13228.0   \n",
       "mean       0.0      0.928655      1.248597      0.0   ...         0.0   \n",
       "std        0.0      0.458489      0.646425      0.0   ...         0.0   \n",
       "min        0.0      0.000000      0.000000      0.0   ...         0.0   \n",
       "25%        0.0      0.610363      0.806668      0.0   ...         0.0   \n",
       "50%        0.0      0.888308      1.177368      0.0   ...         0.0   \n",
       "75%        0.0      1.212442      1.593209      0.0   ...         0.0   \n",
       "max        0.0      3.248031      5.779648      0.0   ...         0.0   \n",
       "\n",
       "                 81            82       83            84            85  \\\n",
       "count  13228.000000  13228.000000  13228.0  13228.000000  13228.000000   \n",
       "mean       1.299901      1.110633      0.0      1.122023      0.993700   \n",
       "std        0.575462      0.533455      0.0      0.520116      0.511088   \n",
       "min        0.000000      0.000000      0.0      0.000000      0.000000   \n",
       "25%        0.905026      0.746083      0.0      0.763233      0.647264   \n",
       "50%        1.244806      1.052875      0.0      1.097230      0.940482   \n",
       "75%        1.633125      1.406588      0.0      1.452765      1.277784   \n",
       "max        5.780103      4.497020      0.0      4.554452      3.966504   \n",
       "\n",
       "            86            87       88       89  \n",
       "count  13228.0  13228.000000  13228.0  13228.0  \n",
       "mean       0.0      1.001647      0.0      0.0  \n",
       "std        0.0      0.452328      0.0      0.0  \n",
       "min        0.0      0.000000      0.0      0.0  \n",
       "25%        0.0      0.693705      0.0      0.0  \n",
       "50%        0.0      0.981564      0.0      0.0  \n",
       "75%        0.0      1.283858      0.0      0.0  \n",
       "max        0.0      3.405080      0.0      0.0  \n",
       "\n",
       "[8 rows x 90 columns]"
      ]
     },
     "execution_count": 18,
     "metadata": {},
     "output_type": "execute_result"
    }
   ],
   "source": [
    "all_rows = []\n",
    "for i in range(images_count):\n",
    "    image = getEncodedImage(i)\n",
    "    encoded_internal = encoder.predict(image.reshape([-1, image.shape[0], image.shape[1], image.shape[2]]))[0]\n",
    "    all_rows.append(encoded_internal)\n",
    "df = pd.DataFrame(all_rows)\n",
    "df.describe()\n",
    "    "
   ]
  },
  {
   "cell_type": "markdown",
   "metadata": {},
   "source": [
    "## Save mean from encodings to file"
   ]
  },
  {
   "cell_type": "code",
   "execution_count": 19,
   "metadata": {},
   "outputs": [],
   "source": [
    "\n",
    "mean = df.mean().values.tolist()\n",
    "\n",
    "text_file = open(\"../models/mean.json\", \"w\")\n",
    "text_file.write(json.dumps(mean))\n",
    "text_file.close()"
   ]
  },
  {
   "cell_type": "markdown",
   "metadata": {},
   "source": [
    "## Filter out columns all containing zeros"
   ]
  },
  {
   "cell_type": "code",
   "execution_count": 20,
   "metadata": {},
   "outputs": [],
   "source": [
    "m2 = df.loc[:, (df != 0).any(axis=0)]"
   ]
  },
  {
   "cell_type": "code",
   "execution_count": 21,
   "metadata": {},
   "outputs": [
    {
     "data": {
      "text/html": [
       "<div>\n",
       "<style scoped>\n",
       "    .dataframe tbody tr th:only-of-type {\n",
       "        vertical-align: middle;\n",
       "    }\n",
       "\n",
       "    .dataframe tbody tr th {\n",
       "        vertical-align: top;\n",
       "    }\n",
       "\n",
       "    .dataframe thead th {\n",
       "        text-align: right;\n",
       "    }\n",
       "</style>\n",
       "<table border=\"1\" class=\"dataframe\">\n",
       "  <thead>\n",
       "    <tr style=\"text-align: right;\">\n",
       "      <th></th>\n",
       "      <th>0</th>\n",
       "      <th>5</th>\n",
       "      <th>7</th>\n",
       "      <th>8</th>\n",
       "      <th>14</th>\n",
       "      <th>22</th>\n",
       "      <th>23</th>\n",
       "      <th>24</th>\n",
       "      <th>32</th>\n",
       "      <th>33</th>\n",
       "      <th>...</th>\n",
       "      <th>68</th>\n",
       "      <th>69</th>\n",
       "      <th>71</th>\n",
       "      <th>74</th>\n",
       "      <th>77</th>\n",
       "      <th>81</th>\n",
       "      <th>82</th>\n",
       "      <th>84</th>\n",
       "      <th>85</th>\n",
       "      <th>87</th>\n",
       "    </tr>\n",
       "  </thead>\n",
       "  <tbody>\n",
       "    <tr>\n",
       "      <th>count</th>\n",
       "      <td>13228.000000</td>\n",
       "      <td>13228.000000</td>\n",
       "      <td>13228.000000</td>\n",
       "      <td>13228.000000</td>\n",
       "      <td>13228.000000</td>\n",
       "      <td>13228.000000</td>\n",
       "      <td>13228.000000</td>\n",
       "      <td>13228.000000</td>\n",
       "      <td>13228.000000</td>\n",
       "      <td>13228.000000</td>\n",
       "      <td>...</td>\n",
       "      <td>13228.000000</td>\n",
       "      <td>13228.000000</td>\n",
       "      <td>13228.000000</td>\n",
       "      <td>13228.000000</td>\n",
       "      <td>13228.000000</td>\n",
       "      <td>13228.000000</td>\n",
       "      <td>13228.000000</td>\n",
       "      <td>13228.000000</td>\n",
       "      <td>13228.000000</td>\n",
       "      <td>13228.000000</td>\n",
       "    </tr>\n",
       "    <tr>\n",
       "      <th>mean</th>\n",
       "      <td>1.169773</td>\n",
       "      <td>1.092326</td>\n",
       "      <td>0.928655</td>\n",
       "      <td>1.248597</td>\n",
       "      <td>0.104677</td>\n",
       "      <td>0.711186</td>\n",
       "      <td>1.204581</td>\n",
       "      <td>1.183014</td>\n",
       "      <td>1.059289</td>\n",
       "      <td>1.004621</td>\n",
       "      <td>...</td>\n",
       "      <td>0.982228</td>\n",
       "      <td>0.992269</td>\n",
       "      <td>1.119543</td>\n",
       "      <td>1.159865</td>\n",
       "      <td>1.072564</td>\n",
       "      <td>1.299901</td>\n",
       "      <td>1.110633</td>\n",
       "      <td>1.122023</td>\n",
       "      <td>0.993700</td>\n",
       "      <td>1.001647</td>\n",
       "    </tr>\n",
       "    <tr>\n",
       "      <th>std</th>\n",
       "      <td>0.507703</td>\n",
       "      <td>0.526721</td>\n",
       "      <td>0.458489</td>\n",
       "      <td>0.646425</td>\n",
       "      <td>0.332655</td>\n",
       "      <td>0.414327</td>\n",
       "      <td>0.633563</td>\n",
       "      <td>0.551203</td>\n",
       "      <td>0.579689</td>\n",
       "      <td>0.485516</td>\n",
       "      <td>...</td>\n",
       "      <td>0.617274</td>\n",
       "      <td>0.476432</td>\n",
       "      <td>0.509124</td>\n",
       "      <td>0.507343</td>\n",
       "      <td>0.486134</td>\n",
       "      <td>0.575462</td>\n",
       "      <td>0.533455</td>\n",
       "      <td>0.520116</td>\n",
       "      <td>0.511088</td>\n",
       "      <td>0.452328</td>\n",
       "    </tr>\n",
       "    <tr>\n",
       "      <th>min</th>\n",
       "      <td>0.000000</td>\n",
       "      <td>0.000000</td>\n",
       "      <td>0.000000</td>\n",
       "      <td>0.000000</td>\n",
       "      <td>0.000000</td>\n",
       "      <td>0.000000</td>\n",
       "      <td>0.000000</td>\n",
       "      <td>0.000000</td>\n",
       "      <td>0.000000</td>\n",
       "      <td>0.000000</td>\n",
       "      <td>...</td>\n",
       "      <td>0.000000</td>\n",
       "      <td>0.000000</td>\n",
       "      <td>0.000000</td>\n",
       "      <td>0.000000</td>\n",
       "      <td>0.000000</td>\n",
       "      <td>0.000000</td>\n",
       "      <td>0.000000</td>\n",
       "      <td>0.000000</td>\n",
       "      <td>0.000000</td>\n",
       "      <td>0.000000</td>\n",
       "    </tr>\n",
       "    <tr>\n",
       "      <th>25%</th>\n",
       "      <td>0.825467</td>\n",
       "      <td>0.722806</td>\n",
       "      <td>0.610363</td>\n",
       "      <td>0.806668</td>\n",
       "      <td>0.000000</td>\n",
       "      <td>0.427792</td>\n",
       "      <td>0.765810</td>\n",
       "      <td>0.799082</td>\n",
       "      <td>0.654399</td>\n",
       "      <td>0.666010</td>\n",
       "      <td>...</td>\n",
       "      <td>0.543316</td>\n",
       "      <td>0.655278</td>\n",
       "      <td>0.775174</td>\n",
       "      <td>0.820690</td>\n",
       "      <td>0.746425</td>\n",
       "      <td>0.905026</td>\n",
       "      <td>0.746083</td>\n",
       "      <td>0.763233</td>\n",
       "      <td>0.647264</td>\n",
       "      <td>0.693705</td>\n",
       "    </tr>\n",
       "    <tr>\n",
       "      <th>50%</th>\n",
       "      <td>1.136732</td>\n",
       "      <td>1.045580</td>\n",
       "      <td>0.888308</td>\n",
       "      <td>1.177368</td>\n",
       "      <td>0.000000</td>\n",
       "      <td>0.653103</td>\n",
       "      <td>1.107011</td>\n",
       "      <td>1.168465</td>\n",
       "      <td>0.991160</td>\n",
       "      <td>0.959009</td>\n",
       "      <td>...</td>\n",
       "      <td>0.880096</td>\n",
       "      <td>0.951835</td>\n",
       "      <td>1.075003</td>\n",
       "      <td>1.131613</td>\n",
       "      <td>1.034778</td>\n",
       "      <td>1.244806</td>\n",
       "      <td>1.052875</td>\n",
       "      <td>1.097230</td>\n",
       "      <td>0.940482</td>\n",
       "      <td>0.981564</td>\n",
       "    </tr>\n",
       "    <tr>\n",
       "      <th>75%</th>\n",
       "      <td>1.480820</td>\n",
       "      <td>1.398070</td>\n",
       "      <td>1.212442</td>\n",
       "      <td>1.593209</td>\n",
       "      <td>0.000000</td>\n",
       "      <td>0.926202</td>\n",
       "      <td>1.543575</td>\n",
       "      <td>1.530779</td>\n",
       "      <td>1.385798</td>\n",
       "      <td>1.305935</td>\n",
       "      <td>...</td>\n",
       "      <td>1.304499</td>\n",
       "      <td>1.281445</td>\n",
       "      <td>1.418695</td>\n",
       "      <td>1.469621</td>\n",
       "      <td>1.355841</td>\n",
       "      <td>1.633125</td>\n",
       "      <td>1.406588</td>\n",
       "      <td>1.452765</td>\n",
       "      <td>1.277784</td>\n",
       "      <td>1.283858</td>\n",
       "    </tr>\n",
       "    <tr>\n",
       "      <th>max</th>\n",
       "      <td>4.195548</td>\n",
       "      <td>3.896302</td>\n",
       "      <td>3.248031</td>\n",
       "      <td>5.779648</td>\n",
       "      <td>5.110476</td>\n",
       "      <td>3.027106</td>\n",
       "      <td>5.859632</td>\n",
       "      <td>4.180594</td>\n",
       "      <td>4.852405</td>\n",
       "      <td>3.474011</td>\n",
       "      <td>...</td>\n",
       "      <td>5.486449</td>\n",
       "      <td>3.541837</td>\n",
       "      <td>4.984731</td>\n",
       "      <td>4.066056</td>\n",
       "      <td>4.151653</td>\n",
       "      <td>5.780103</td>\n",
       "      <td>4.497020</td>\n",
       "      <td>4.554452</td>\n",
       "      <td>3.966504</td>\n",
       "      <td>3.405080</td>\n",
       "    </tr>\n",
       "  </tbody>\n",
       "</table>\n",
       "<p>8 rows × 27 columns</p>\n",
       "</div>"
      ],
      "text/plain": [
       "                 0             5             7             8             14  \\\n",
       "count  13228.000000  13228.000000  13228.000000  13228.000000  13228.000000   \n",
       "mean       1.169773      1.092326      0.928655      1.248597      0.104677   \n",
       "std        0.507703      0.526721      0.458489      0.646425      0.332655   \n",
       "min        0.000000      0.000000      0.000000      0.000000      0.000000   \n",
       "25%        0.825467      0.722806      0.610363      0.806668      0.000000   \n",
       "50%        1.136732      1.045580      0.888308      1.177368      0.000000   \n",
       "75%        1.480820      1.398070      1.212442      1.593209      0.000000   \n",
       "max        4.195548      3.896302      3.248031      5.779648      5.110476   \n",
       "\n",
       "                 22            23            24            32            33  \\\n",
       "count  13228.000000  13228.000000  13228.000000  13228.000000  13228.000000   \n",
       "mean       0.711186      1.204581      1.183014      1.059289      1.004621   \n",
       "std        0.414327      0.633563      0.551203      0.579689      0.485516   \n",
       "min        0.000000      0.000000      0.000000      0.000000      0.000000   \n",
       "25%        0.427792      0.765810      0.799082      0.654399      0.666010   \n",
       "50%        0.653103      1.107011      1.168465      0.991160      0.959009   \n",
       "75%        0.926202      1.543575      1.530779      1.385798      1.305935   \n",
       "max        3.027106      5.859632      4.180594      4.852405      3.474011   \n",
       "\n",
       "           ...                 68            69            71            74  \\\n",
       "count      ...       13228.000000  13228.000000  13228.000000  13228.000000   \n",
       "mean       ...           0.982228      0.992269      1.119543      1.159865   \n",
       "std        ...           0.617274      0.476432      0.509124      0.507343   \n",
       "min        ...           0.000000      0.000000      0.000000      0.000000   \n",
       "25%        ...           0.543316      0.655278      0.775174      0.820690   \n",
       "50%        ...           0.880096      0.951835      1.075003      1.131613   \n",
       "75%        ...           1.304499      1.281445      1.418695      1.469621   \n",
       "max        ...           5.486449      3.541837      4.984731      4.066056   \n",
       "\n",
       "                 77            81            82            84            85  \\\n",
       "count  13228.000000  13228.000000  13228.000000  13228.000000  13228.000000   \n",
       "mean       1.072564      1.299901      1.110633      1.122023      0.993700   \n",
       "std        0.486134      0.575462      0.533455      0.520116      0.511088   \n",
       "min        0.000000      0.000000      0.000000      0.000000      0.000000   \n",
       "25%        0.746425      0.905026      0.746083      0.763233      0.647264   \n",
       "50%        1.034778      1.244806      1.052875      1.097230      0.940482   \n",
       "75%        1.355841      1.633125      1.406588      1.452765      1.277784   \n",
       "max        4.151653      5.780103      4.497020      4.554452      3.966504   \n",
       "\n",
       "                 87  \n",
       "count  13228.000000  \n",
       "mean       1.001647  \n",
       "std        0.452328  \n",
       "min        0.000000  \n",
       "25%        0.693705  \n",
       "50%        0.981564  \n",
       "75%        1.283858  \n",
       "max        3.405080  \n",
       "\n",
       "[8 rows x 27 columns]"
      ]
     },
     "execution_count": 21,
     "metadata": {},
     "output_type": "execute_result"
    }
   ],
   "source": [
    "m2.describe()"
   ]
  },
  {
   "cell_type": "code",
   "execution_count": 22,
   "metadata": {},
   "outputs": [],
   "source": [
    "pca_columns = len(m2.columns)"
   ]
  },
  {
   "cell_type": "markdown",
   "metadata": {},
   "source": [
    "### This number shows how many principal components are needed\n",
    "#### We can take only non-zero columns from our encodings table\n",
    "This will allow to use fewer components"
   ]
  },
  {
   "cell_type": "code",
   "execution_count": 23,
   "metadata": {},
   "outputs": [
    {
     "data": {
      "text/plain": [
       "27"
      ]
     },
     "execution_count": 23,
     "metadata": {},
     "output_type": "execute_result"
    }
   ],
   "source": [
    "pca_columns"
   ]
  },
  {
   "cell_type": "markdown",
   "metadata": {},
   "source": [
    "## Manual PCA"
   ]
  },
  {
   "cell_type": "code",
   "execution_count": 24,
   "metadata": {},
   "outputs": [],
   "source": [
    "np_all_rows = np.asarray(all_rows)\n",
    "\n",
    "pca = PCA(n_components=pca_columns)\n",
    "pca.fit(np_all_rows)\n",
    "values = np.sqrt(pca.explained_variance_)\n",
    "vectors = pca.components_\n",
    "eigenvectorInverses = np.linalg.pinv(vectors)\n",
    "\n",
    "json_vectors = json.dumps(vectors.tolist())\n",
    "json_values = json.dumps(values.tolist())\n",
    "\n",
    "\n",
    "\n",
    "text_file = open(\"../models/eigenVectors.json\", \"w\")\n",
    "text_file.write(json_vectors)\n",
    "text_file.close()\n",
    "\n",
    "text_file = open(\"../models/eigenValues.json\", \"w\")\n",
    "text_file.write(json_values)\n",
    "text_file.close()\n"
   ]
  },
  {
   "cell_type": "markdown",
   "metadata": {},
   "source": [
    "## Load data as it will be loaded by tensorflowJS in the browser"
   ]
  },
  {
   "cell_type": "code",
   "execution_count": 25,
   "metadata": {},
   "outputs": [],
   "source": [
    "with open('../models/eigenVectors.json') as f:\n",
    "    eigenVectors = np.asarray(json.load(f))\n",
    "with open('../models/eigenValues.json') as f:\n",
    "    eigenValues = np.asarray(json.load(f))\n",
    "with open('../models/mean.json') as f:\n",
    "    meanData = np.asarray(json.load(f))"
   ]
  },
  {
   "cell_type": "code",
   "execution_count": 26,
   "metadata": {},
   "outputs": [],
   "source": [
    "all_rows_pca = []\n",
    "for row in np_all_rows:\n",
    "    all_rows_pca.append(np.matmul(row - meanData, eigenvectorInverses) / eigenValues)\n",
    "\n",
    "all_rows_pca = np.asarray(all_rows_pca)\n",
    "\n",
    "sliders_min = all_rows_pca.min(axis=0)\n",
    "sliders_max = all_rows_pca.max(axis=0)\n",
    "\n",
    "json_sliders_min = json.dumps(sliders_min.tolist())\n",
    "json_sliders_max = json.dumps(sliders_max.tolist())\n",
    "\n",
    "text_file = open(\"../models/slidersMin.json\", \"w\")\n",
    "text_file.write(json_sliders_min)\n",
    "text_file.close()\n",
    "\n",
    "text_file = open(\"../models/slidersMax.json\", \"w\")\n",
    "text_file.write(json_sliders_max)\n",
    "text_file.close()"
   ]
  },
  {
   "cell_type": "code",
   "execution_count": 27,
   "metadata": {},
   "outputs": [],
   "source": [
    "traits = encoded[0] - meanData\n",
    "image_pca = np.matmul(traits, eigenvectorInverses) / eigenValues"
   ]
  },
  {
   "cell_type": "code",
   "execution_count": 28,
   "metadata": {},
   "outputs": [],
   "source": [
    "recovered_from_pca = meanData.copy()\n",
    "for i in range(pca_columns):\n",
    "    recovered_from_pca += all_rows_pca[0][i] * eigenValues[i] * eigenVectors[i]\n",
    "    #recovered_from_pca += image_pca[i] * eigenValues[i] * eigenVectors[i]"
   ]
  },
  {
   "cell_type": "code",
   "execution_count": 29,
   "metadata": {},
   "outputs": [
    {
     "data": {
      "text/plain": [
       "(27, 90)"
      ]
     },
     "execution_count": 29,
     "metadata": {},
     "output_type": "execute_result"
    }
   ],
   "source": [
    "eigenVectors.shape"
   ]
  },
  {
   "cell_type": "code",
   "execution_count": 30,
   "metadata": {},
   "outputs": [
    {
     "data": {
      "text/plain": [
       "array([-1.19065424,  1.22428321, -0.45107317,  1.1642318 , -0.30058592,\n",
       "        0.45079171, -0.25804107,  0.10516445,  1.22633373, -0.0741795 ,\n",
       "       -0.49508225,  0.26210224,  0.4498657 ,  0.30517044, -0.69219232,\n",
       "        0.42681913, -0.16882188, -0.60252219, -0.15343942, -0.43781948,\n",
       "       -0.79690091,  0.79182878,  0.49240054,  0.66863203, -0.01272827,\n",
       "        0.35885138,  0.58326572])"
      ]
     },
     "execution_count": 30,
     "metadata": {},
     "output_type": "execute_result"
    }
   ],
   "source": [
    "image_pca"
   ]
  },
  {
   "cell_type": "code",
   "execution_count": 31,
   "metadata": {},
   "outputs": [
    {
     "data": {
      "text/plain": [
       "array([ 1.18561903e+00,  2.64457515e-08, -1.68802171e-08,  1.28350497e-08,\n",
       "        2.72434505e-08,  1.23341776e+00, -1.23195111e-08,  9.04899712e-01,\n",
       "        6.99602747e-01, -2.33297614e-10,  1.96710553e-08, -3.46800271e-09,\n",
       "       -9.41201264e-09, -1.19871840e-08,  7.71361242e-09,  1.22357995e-08,\n",
       "       -5.28319192e-09,  2.67190366e-08, -3.48354143e-09, -1.66263259e-08,\n",
       "        4.66559320e-09,  1.31952688e-08,  6.47376855e-01,  5.56853514e-01,\n",
       "        1.33028745e+00, -1.06962093e-14,  7.55920906e-15, -2.15480827e-21,\n",
       "        4.68931670e-21,  4.65137769e-21,  5.21222594e-21,  2.40497191e-21,\n",
       "        4.75239989e-01,  4.83074161e-01,  1.21190660e-21,  0.00000000e+00,\n",
       "        0.00000000e+00,  0.00000000e+00,  1.33091771e+00,  0.00000000e+00,\n",
       "        0.00000000e+00,  0.00000000e+00,  0.00000000e+00,  7.10948656e-01,\n",
       "        0.00000000e+00,  1.16446482e+00,  0.00000000e+00,  0.00000000e+00,\n",
       "        0.00000000e+00,  0.00000000e+00,  1.13194665e+00,  0.00000000e+00,\n",
       "        7.22566246e-01,  0.00000000e+00,  0.00000000e+00,  0.00000000e+00,\n",
       "        8.12876156e-01,  0.00000000e+00,  0.00000000e+00,  0.00000000e+00,\n",
       "        2.54203276e+00,  0.00000000e+00,  0.00000000e+00,  0.00000000e+00,\n",
       "        0.00000000e+00,  0.00000000e+00,  0.00000000e+00,  0.00000000e+00,\n",
       "        7.71864683e-01,  7.10982977e-01,  0.00000000e+00,  9.03584855e-01,\n",
       "        0.00000000e+00,  0.00000000e+00,  9.00081428e-01,  0.00000000e+00,\n",
       "        0.00000000e+00,  6.30279951e-01,  0.00000000e+00,  0.00000000e+00,\n",
       "        0.00000000e+00,  8.01876748e-01,  1.39658210e+00,  0.00000000e+00,\n",
       "        5.90319047e-01,  6.62765670e-01,  0.00000000e+00,  1.31005464e+00,\n",
       "        0.00000000e+00,  0.00000000e+00])"
      ]
     },
     "execution_count": 31,
     "metadata": {},
     "output_type": "execute_result"
    }
   ],
   "source": [
    "recovered_from_pca"
   ]
  },
  {
   "cell_type": "code",
   "execution_count": 32,
   "metadata": {},
   "outputs": [
    {
     "data": {
      "text/plain": [
       "<matplotlib.image.AxesImage at 0x7fb8d8269b70>"
      ]
     },
     "execution_count": 32,
     "metadata": {},
     "output_type": "execute_result"
    },
    {
     "data": {
      "image/png": "[encoded data removed]",
      "text/plain": [
       "<Figure size 432x288 with 1 Axes>"
      ]
     },
     "metadata": {
      "needs_background": "light"
     },
     "output_type": "display_data"
    }
   ],
   "source": [
    "decoded = decoder.predict(recovered_from_pca.reshape(1,DENSE_SIZE))\n",
    "plt.imshow(decoded[0])"
   ]
  },
  {
   "cell_type": "markdown",
   "metadata": {},
   "source": [
    "### Save all images as encodings in json file"
   ]
  },
  {
   "cell_type": "code",
   "execution_count": 33,
   "metadata": {},
   "outputs": [],
   "source": [
    "json_all_rows_pca = json.dumps(all_rows_pca.tolist())\n",
    "\n",
    "text_file = open(\"../models/facesPca.json\", \"w\")\n",
    "text_file.write(json_all_rows_pca)\n",
    "text_file.close()"
   ]
  },
  {
   "cell_type": "markdown",
   "metadata": {},
   "source": [
    "## Save decoder part"
   ]
  },
  {
   "cell_type": "code",
   "execution_count": 34,
   "metadata": {},
   "outputs": [],
   "source": [
    "#tf.keras.models.save_model(decoder, '../models/decoder.h5')\n",
    "decoder.save('../models/decoder.h5')"
   ]
  },
  {
   "cell_type": "code",
   "execution_count": 35,
   "metadata": {},
   "outputs": [],
   "source": [
    "loaded = load_model('../models/decoder.h5')"
   ]
  },
  {
   "cell_type": "code",
   "execution_count": 36,
   "metadata": {},
   "outputs": [
    {
     "data": {
      "text/plain": [
       "<matplotlib.image.AxesImage at 0x7fb8d07dc390>"
      ]
     },
     "execution_count": 36,
     "metadata": {},
     "output_type": "execute_result"
    },
    {
     "data": {
      "image/png": "[encoded data removed]",
      "text/plain": [
       "<Figure size 432x288 with 1 Axes>"
      ]
     },
     "metadata": {
      "needs_background": "light"
     },
     "output_type": "display_data"
    }
   ],
   "source": [
    "res = loaded.predict(encoded)\n",
    "plt.imshow(res[0])"
   ]
  }
 ],
 "metadata": {
  "kernelspec": {
   "display_name": "Python 3",
   "language": "python",
   "name": "python3"
  },
  "language_info": {
   "codemirror_mode": {
    "name": "ipython",
    "version": 3
   },
   "file_extension": ".py",
   "mimetype": "text/x-python",
   "name": "python",
   "nbconvert_exporter": "python",
   "pygments_lexer": "ipython3",
   "version": "3.5.2"
  }
 },
 "nbformat": 4,
 "nbformat_minor": 2
}
